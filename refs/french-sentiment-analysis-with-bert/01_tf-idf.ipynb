{
 "cells": [
  {
   "cell_type": "code",
   "execution_count": 1,
   "metadata": {},
   "outputs": [],
   "source": [
    "import numpy as np\n",
    "import pandas as pd\n",
    "import seaborn as sns\n",
    "import matplotlib.pyplot as plt\n",
    "\n",
    "# better display of review text in dataframes\n",
    "pd.set_option('display.max_colwidth', None) \n",
    "\n",
    "# Seaborn options\n",
    "sns.set(style=\"whitegrid\", font_scale=1.4)\n",
    "\n",
    "%load_ext autoreload\n",
    "%autoreload 2"
   ]
  },
  {
   "cell_type": "markdown",
   "metadata": {},
   "source": [
    "# Load data"
   ]
  },
  {
   "cell_type": "markdown",
   "metadata": {},
   "source": [
    "## Dataset"
   ]
  },
  {
   "cell_type": "code",
   "execution_count": 2,
   "metadata": {},
   "outputs": [
    {
     "name": "stdout",
     "output_type": "stream",
     "text": [
      "LEN TRAIN: 160000\n",
      "LEN VAL: 20000\n",
      "LEN TEST: 20000\n"
     ]
    }
   ],
   "source": [
    "import pickle\n",
    "\n",
    "PICKLE_PATH = \"allocine_dataset/data/allocine_dataset.pickle\"\n",
    "\n",
    "with open(PICKLE_PATH, 'rb') as reader:\n",
    "    data = pickle.load(reader)\n",
    "\n",
    "X_train, y_train = np.array(data[\"train_set\"]['review']), np.array(data[\"train_set\"]['polarity'])\n",
    "X_val, y_val = np.array(data[\"val_set\"]['review']), np.array(data[\"val_set\"]['polarity'])\n",
    "X_test, y_test = np.array(data[\"test_set\"]['review']), np.array(data[\"test_set\"]['polarity'])\n",
    "class_names = data['class_names']\n",
    "\n",
    "print(\"LEN TRAIN: \"+ str(len(X_train)))\n",
    "print(\"LEN VAL: \"+ str(len(X_val)))\n",
    "print(\"LEN TEST: \"+ str(len(X_test)))"
   ]
  },
  {
   "cell_type": "markdown",
   "metadata": {},
   "source": [
    "# Model selection"
   ]
  },
  {
   "cell_type": "markdown",
   "metadata": {},
   "source": [
    "## First model"
   ]
  },
  {
   "cell_type": "code",
   "execution_count": 4,
   "metadata": {},
   "outputs": [
    {
     "name": "stderr",
     "output_type": "stream",
     "text": [
      "[Parallel(n_jobs=-1)]: Using backend LokyBackend with 12 concurrent workers.\n",
      "[Parallel(n_jobs=-1)]: Done   1 out of   1 | elapsed:    7.2s finished\n"
     ]
    },
    {
     "data": {
      "text/plain": [
       "Pipeline(memory=None,\n",
       "         steps=[('tfidf',\n",
       "                 TfidfVectorizer(analyzer='word', binary=False,\n",
       "                                 decode_error='strict',\n",
       "                                 dtype=<class 'numpy.float64'>,\n",
       "                                 encoding='utf-8', input='content',\n",
       "                                 lowercase=True, max_df=1.0, max_features=None,\n",
       "                                 min_df=1, ngram_range=(1, 1), norm='l2',\n",
       "                                 preprocessor=None, smooth_idf=True,\n",
       "                                 stop_words=None, strip_accents=None,\n",
       "                                 sublinear_tf=False,\n",
       "                                 token_pattern='(?u)\\\\b\\\\w\\\\w+\\\\b',\n",
       "                                 tokenizer=None, use_idf=True,\n",
       "                                 vocabulary=None)),\n",
       "                ('clf',\n",
       "                 LogisticRegression(C=1.0, class_weight=None, dual=False,\n",
       "                                    fit_intercept=True, intercept_scaling=1,\n",
       "                                    l1_ratio=None, max_iter=100,\n",
       "                                    multi_class='auto', n_jobs=-1, penalty='l2',\n",
       "                                    random_state=None, solver='lbfgs',\n",
       "                                    tol=0.0001, verbose=1, warm_start=False))],\n",
       "         verbose=False)"
      ]
     },
     "execution_count": 4,
     "metadata": {},
     "output_type": "execute_result"
    }
   ],
   "source": [
    "from sklearn.feature_extraction.text import TfidfVectorizer\n",
    "from sklearn.linear_model import LogisticRegression\n",
    "from sklearn.pipeline import Pipeline\n",
    "\n",
    "tfidf_clf = Pipeline([\n",
    "    ('tfidf', TfidfVectorizer()), # Default parameters\n",
    "    ('clf', LogisticRegression(n_jobs=-1, verbose=1)),\n",
    "])\n",
    "\n",
    "tfidf_clf.fit(X_train, y_train)"
   ]
  },
  {
   "cell_type": "markdown",
   "metadata": {},
   "source": [
    "## Prediction"
   ]
  },
  {
   "cell_type": "code",
   "execution_count": 5,
   "metadata": {},
   "outputs": [
    {
     "name": "stdout",
     "output_type": "stream",
     "text": [
      "Ce film est tout ce qu'il y a de plus sympa. Même si l'ensemble n'est pas dépourvu de clichés, il serait hypocrite de dire que ce film est ennuyeux à regarder, bien au contraire. Il est très plaisant à regarder et même si l'ensemble est asse convenue, la mise en scène de Peter Chelsom est légère et ce film est une sorte de bouffée d'air frais. Tout à fait estimable.\n",
      "\n",
      "True Polarity: Negative\n"
     ]
    }
   ],
   "source": [
    "some_index = 0\n",
    "some_review = X_val[some_index]\n",
    "print(some_review)\n",
    "print()\n",
    "print(\"True Polarity:\", class_names[y_val[some_index]])"
   ]
  },
  {
   "cell_type": "code",
   "execution_count": 6,
   "metadata": {},
   "outputs": [
    {
     "name": "stdout",
     "output_type": "stream",
     "text": [
      "Predicted Polarity: Negative\n"
     ]
    }
   ],
   "source": [
    "some_prediction = tfidf_clf.predict([some_review, ])\n",
    "print(\"Predicted Polarity:\", class_names[some_prediction[0]]) # Good prediction !"
   ]
  },
  {
   "cell_type": "code",
   "execution_count": 7,
   "metadata": {},
   "outputs": [
    {
     "name": "stdout",
     "output_type": "stream",
     "text": [
      "Training Accuracy: 0.9415375\n",
      "Validation Accuracy: 0.9246\n",
      "\n",
      "              precision    recall  f1-score   support\n",
      "\n",
      "    Negative       0.93      0.92      0.93     10204\n",
      "    Positive       0.92      0.93      0.92      9796\n",
      "\n",
      "    accuracy                           0.92     20000\n",
      "   macro avg       0.92      0.92      0.92     20000\n",
      "weighted avg       0.92      0.92      0.92     20000\n",
      "\n"
     ]
    }
   ],
   "source": [
    "from sklearn import metrics\n",
    "\n",
    "# Predicting training dataset\n",
    "y_pred = tfidf_clf.predict(X_train)\n",
    "print(\"Training Accuracy:\", metrics.accuracy_score(y_train, y_pred))\n",
    "\n",
    "# Predicting with a test dataset\n",
    "\n",
    "y_pred = tfidf_clf.predict(X_val)\n",
    "print(\"Validation Accuracy:\", metrics.accuracy_score(y_val, y_pred))\n",
    "print()\n",
    "print(metrics.classification_report(y_val, y_pred, target_names=class_names.values()))"
   ]
  },
  {
   "cell_type": "markdown",
   "metadata": {},
   "source": [
    "## Grid Search"
   ]
  },
  {
   "cell_type": "code",
   "execution_count": 7,
   "metadata": {},
   "outputs": [],
   "source": [
    "from sklearn.model_selection import PredefinedSplit\n",
    "\n",
    "# Grid-search on validation set.\n",
    "X = np.concatenate((X_train, X_val), axis=0)\n",
    "y = np.concatenate((y_train, y_val), axis=0)\n",
    "validation_indexes = [-1]*len(X_train) + [0]*len(X_val)\n",
    "ps = PredefinedSplit(test_fold=validation_indexes)"
   ]
  },
  {
   "cell_type": "code",
   "execution_count": 8,
   "metadata": {},
   "outputs": [
    {
     "name": "stdout",
     "output_type": "stream",
     "text": [
      "Fitting 1 folds for each of 240 candidates, totalling 240 fits\n"
     ]
    },
    {
     "name": "stderr",
     "output_type": "stream",
     "text": [
      "[Parallel(n_jobs=-1)]: Using backend LokyBackend with 12 concurrent workers.\n",
      "[Parallel(n_jobs=-1)]: Done  26 tasks      | elapsed:  2.7min\n",
      "[Parallel(n_jobs=-1)]: Done 176 tasks      | elapsed: 26.8min\n",
      "[Parallel(n_jobs=-1)]: Done 240 out of 240 | elapsed: 43.8min finished\n",
      "[Parallel(n_jobs=-1)]: Using backend LokyBackend with 12 concurrent workers.\n",
      "[Parallel(n_jobs=-1)]: Done   1 out of   1 | elapsed:   50.2s finished\n"
     ]
    },
    {
     "data": {
      "text/plain": [
       "GridSearchCV(cv=PredefinedSplit(test_fold=array([-1, -1, ...,  0,  0])),\n",
       "             error_score=nan,\n",
       "             estimator=Pipeline(memory=None,\n",
       "                                steps=[('tfidf',\n",
       "                                        TfidfVectorizer(analyzer='word',\n",
       "                                                        binary=False,\n",
       "                                                        decode_error='strict',\n",
       "                                                        dtype=<class 'numpy.float64'>,\n",
       "                                                        encoding='utf-8',\n",
       "                                                        input='content',\n",
       "                                                        lowercase=True,\n",
       "                                                        max_df=1.0,\n",
       "                                                        max_features=None,\n",
       "                                                        min_df=1,\n",
       "                                                        ngram_range=(1, 1),\n",
       "                                                        norm='l2',\n",
       "                                                        preprocesso...\n",
       "             param_grid={'clf__C': array([1.00000000e-04, 7.74263683e-04, 5.99484250e-03, 4.64158883e-02,\n",
       "       3.59381366e-01, 2.78255940e+00, 2.15443469e+01, 1.66810054e+02,\n",
       "       1.29154967e+03, 1.00000000e+04]),\n",
       "                         'tfidf__lowercase': (True, False),\n",
       "                         'tfidf__max_df': [0.6, 0.65, 0.7, 0.75, 0.85, 1],\n",
       "                         'tfidf__ngram_range': [(1, 1), (1, 2)]},\n",
       "             pre_dispatch='2*n_jobs', refit=True, return_train_score=True,\n",
       "             scoring='accuracy', verbose=1)"
      ]
     },
     "execution_count": 8,
     "metadata": {},
     "output_type": "execute_result"
    }
   ],
   "source": [
    "from sklearn.model_selection import GridSearchCV\n",
    "\n",
    "param_grid = {\n",
    "     'tfidf__lowercase': (True, False),\n",
    "     'tfidf__ngram_range': [(1, 1), (1, 2)],\n",
    "     'tfidf__max_df': [0.60, 0.65, 0.70, 0.75, 0.85, 1],\n",
    "     'clf__C': np.logspace(-4, 4, 10),\n",
    "}\n",
    "\n",
    "tfidf_clf = Pipeline([\n",
    "    ('tfidf', TfidfVectorizer()),\n",
    "    ('clf', LogisticRegression(penalty='l2', n_jobs=-1, verbose=1)),\n",
    "])\n",
    "\n",
    "grid_search = GridSearchCV(\n",
    "    tfidf_clf, param_grid, cv=ps, \n",
    "    scoring='accuracy', return_train_score=True, \n",
    "    n_jobs=-1, verbose=1\n",
    ")\n",
    "\n",
    "grid_search.fit(X, y)"
   ]
  },
  {
   "cell_type": "code",
   "execution_count": 9,
   "metadata": {},
   "outputs": [
    {
     "name": "stdout",
     "output_type": "stream",
     "text": [
      "{'clf__C': 1291.5496650148827, 'tfidf__lowercase': True, 'tfidf__max_df': 0.75, 'tfidf__ngram_range': (1, 2)}\n",
      "0.94385\n"
     ]
    }
   ],
   "source": [
    "print(grid_search.best_params_) # pprint ?\n",
    "print(grid_search.best_score_)\n",
    "\n",
    "best_clf = grid_search.best_estimator_"
   ]
  },
  {
   "cell_type": "markdown",
   "metadata": {},
   "source": [
    "Thanks to grid search,  validation accuracy is now ~2 percents higher than before !"
   ]
  },
  {
   "cell_type": "markdown",
   "metadata": {},
   "source": [
    "# Training best model"
   ]
  },
  {
   "cell_type": "code",
   "execution_count": 8,
   "metadata": {},
   "outputs": [
    {
     "name": "stderr",
     "output_type": "stream",
     "text": [
      "[Parallel(n_jobs=-1)]: Using backend LokyBackend with 12 concurrent workers.\n",
      "[Parallel(n_jobs=-1)]: Done   1 out of   1 | elapsed:   46.5s finished\n"
     ]
    },
    {
     "data": {
      "text/plain": [
       "Pipeline(memory=None,\n",
       "         steps=[('tfidf',\n",
       "                 TfidfVectorizer(analyzer='word', binary=False,\n",
       "                                 decode_error='strict',\n",
       "                                 dtype=<class 'numpy.float64'>,\n",
       "                                 encoding='utf-8', input='content',\n",
       "                                 lowercase=True, max_df=0.75, max_features=None,\n",
       "                                 min_df=1, ngram_range=(1, 2), norm='l2',\n",
       "                                 preprocessor=None, smooth_idf=True,\n",
       "                                 stop_words=None, strip_accents=None,\n",
       "                                 sublinear_tf=False,\n",
       "                                 token_pattern='(?u)\\\\b\\\\w\\\\w+\\\\b',\n",
       "                                 tokenizer=None, use_idf=True,\n",
       "                                 vocabulary=None)),\n",
       "                ('clf',\n",
       "                 LogisticRegression(C=1300, class_weight=None, dual=False,\n",
       "                                    fit_intercept=True, intercept_scaling=1,\n",
       "                                    l1_ratio=None, max_iter=100,\n",
       "                                    multi_class='auto', n_jobs=-1, penalty='l2',\n",
       "                                    random_state=None, solver='lbfgs',\n",
       "                                    tol=0.0001, verbose=1, warm_start=False))],\n",
       "         verbose=False)"
      ]
     },
     "execution_count": 8,
     "metadata": {},
     "output_type": "execute_result"
    }
   ],
   "source": [
    "best_clf = Pipeline([\n",
    "    ('tfidf', TfidfVectorizer(\n",
    "        lowercase=True, ngram_range=(1, 2),\n",
    "        max_df=0.75\n",
    "    )),\n",
    "    ('clf', LogisticRegression(\n",
    "        C=1300, penalty='l2', \n",
    "        n_jobs=-1, verbose=1\n",
    "    )),\n",
    "])\n",
    "\n",
    "best_clf.fit(X_train, y_train)"
   ]
  },
  {
   "cell_type": "markdown",
   "metadata": {},
   "source": [
    "## Results"
   ]
  },
  {
   "cell_type": "code",
   "execution_count": 9,
   "metadata": {},
   "outputs": [
    {
     "name": "stdout",
     "output_type": "stream",
     "text": [
      "Val Accuracy: 94.35\n",
      "Val F1-Score: 94.29\n",
      "\n",
      "              precision    recall  f1-score   support\n",
      "\n",
      "    Negative       0.95      0.93      0.94     10204\n",
      "    Positive       0.93      0.95      0.94      9796\n",
      "\n",
      "    accuracy                           0.94     20000\n",
      "   macro avg       0.94      0.94      0.94     20000\n",
      "weighted avg       0.94      0.94      0.94     20000\n",
      "\n"
     ]
    }
   ],
   "source": [
    "from sklearn import metrics \n",
    "\n",
    "y_pred = best_clf.predict(X_val)\n",
    "\n",
    "print(\"Val Accuracy: {:.2f}\".format(100 * metrics.accuracy_score(y_val, y_pred)))\n",
    "print(\"Val F1-Score: {:.2f}\".format(100 * metrics.f1_score(y_val, y_pred)))\n",
    "print()\n",
    "\n",
    "report = metrics.classification_report(\n",
    "    y_val, y_pred, \n",
    "    target_names=class_names.values()\n",
    ")\n",
    "print(report)"
   ]
  },
  {
   "cell_type": "markdown",
   "metadata": {},
   "source": [
    "## Learning curves"
   ]
  },
  {
   "cell_type": "code",
   "execution_count": 12,
   "metadata": {},
   "outputs": [
    {
     "name": "stdout",
     "output_type": "stream",
     "text": [
      "[learning_curve] Training set sizes: [  1600   4832   8065  11297  14530  17763  20995  24228  27461  30693\n",
      "  33926  37159  40391  43624  46857  50089  53322  56555  59787  63020\n",
      "  66253  69485  72718  75951  79183  82416  85648  88881  92114  95346\n",
      "  98579 101812 105044 108277 111510 114742 117975 121208 124440 127673\n",
      " 130906 134138 137371 140604 143836 147069 150302 153534 156767 160000]\n"
     ]
    },
    {
     "name": "stderr",
     "output_type": "stream",
     "text": [
      "[Parallel(n_jobs=-1)]: Using backend LokyBackend with 12 concurrent workers.\n",
      "[Parallel(n_jobs=-1)]: Done  50 out of  50 | elapsed: 15.2min finished\n"
     ]
    }
   ],
   "source": [
    "from sklearn.model_selection import learning_curve\n",
    "\n",
    "# Create CV training and test scores for various training set sizes\n",
    "train_sizes, train_scores, test_scores = learning_curve(\n",
    "    best_clf, X, y, cv=ps, \n",
    "    scoring='accuracy',n_jobs=-1,verbose=1,\n",
    "    # 50 different sizes of the training set\n",
    "    train_sizes=np.linspace(0.01, 1.0, 50)\n",
    ")"
   ]
  },
  {
   "cell_type": "code",
   "execution_count": 13,
   "metadata": {},
   "outputs": [],
   "source": [
    "#import matplotlib.pyplot as plt\n",
    "from sklearn.datasets import load_digits\n",
    "\n",
    "def plot_learning_curves(train_sizes, train_scores, test_scores, figsize=(10,7), fontsize=14):\n",
    "    # Create means and standard deviations of training set scores\n",
    "    train_mean = np.mean(train_scores, axis=1)\n",
    "    train_std = np.std(train_scores, axis=1)\n",
    "    \n",
    "    # Create means and standard deviations of test set scores\n",
    "    test_mean = np.mean(test_scores, axis=1)\n",
    "    test_std = np.std(test_scores, axis=1)\n",
    "    \n",
    "    fig = plt.figure(figsize=figsize)\n",
    "    \n",
    "    # Draw lines\n",
    "    plt.plot(train_sizes, train_mean, '--', color=\"r\",  label=\"Training score\")\n",
    "    plt.plot(train_sizes, test_mean, color=\"g\", label=\"Validation score\")\n",
    "\n",
    "    # Draw bands\n",
    "    #plt.fill_between(train_sizes, train_mean - train_std, train_mean + train_std, color=\"#DDDDDD\")\n",
    "    #plt.fill_between(train_sizes, test_mean - test_std, test_mean + test_std, color=\"#DDDDDD\") \n",
    "\n",
    "    # Create plot\n",
    "    plt.title(\"Learning Curve\")\n",
    "    plt.xlabel(\"Training Set Size\")\n",
    "    plt.ylabel(\"Accuracy Score\")\n",
    "    plt.legend(loc=\"lower right\")  \n",
    "    \n",
    "       \n",
    "    return fig"
   ]
  },
  {
   "cell_type": "code",
   "execution_count": 14,
   "metadata": {},
   "outputs": [
    {
     "data": {
      "image/png": "[encoded data removed]",
      "text/plain": [
       "<Figure size 720x504 with 1 Axes>"
      ]
     },
     "metadata": {},
     "output_type": "display_data"
    }
   ],
   "source": [
    "fig = plot_learning_curves(train_sizes, train_scores, test_scores)\n",
    "\n",
    "# Finalize the plot\n",
    "sns.despine(bottom=True)\n",
    "plt.tight_layout(h_pad=2)\n",
    "\n",
    "# Saving plot\n",
    "fig.savefig('img/tf-idf/learning_curves.png', dpi=200)"
   ]
  },
  {
   "cell_type": "markdown",
   "metadata": {},
   "source": [
    "We can see clearly that the training score is still around the maximum and the validation score could be increased with more training samples."
   ]
  },
  {
   "cell_type": "markdown",
   "metadata": {},
   "source": [
    "## Error analysis"
   ]
  },
  {
   "cell_type": "markdown",
   "metadata": {},
   "source": [
    "### Confusion matrix"
   ]
  },
  {
   "cell_type": "code",
   "execution_count": 10,
   "metadata": {},
   "outputs": [
    {
     "data": {
      "image/png": "[encoded data removed]",
      "text/plain": [
       "<Figure size 504x360 with 2 Axes>"
      ]
     },
     "metadata": {},
     "output_type": "display_data"
    }
   ],
   "source": [
    "from utils import print_confusion_matrix\n",
    "from sklearn.metrics import confusion_matrix\n",
    "\n",
    "conf_mx = confusion_matrix(y_val, y_pred)\n",
    "\n",
    "fig = print_confusion_matrix(\n",
    "    conf_mx, \n",
    "    class_names.values(), \n",
    "    figsize=(7,5)\n",
    ")\n",
    "\n",
    "# Finalize the plot\n",
    "sns.despine(bottom=True)\n",
    "plt.tight_layout(h_pad=2)\n",
    "\n",
    "# Saving plot\n",
    "fig.savefig('img/tf-idf/val_confusion_mx.png', dpi=200)"
   ]
  },
  {
   "cell_type": "markdown",
   "metadata": {},
   "source": [
    "### False Positive / Negative"
   ]
  },
  {
   "cell_type": "code",
   "execution_count": 11,
   "metadata": {},
   "outputs": [],
   "source": [
    "false_pos = X_val[(y_val == 0) & (y_pred == 1)]\n",
    "false_neg = X_val[(y_val == 1) & (y_pred == 0)]"
   ]
  },
  {
   "cell_type": "code",
   "execution_count": 12,
   "metadata": {},
   "outputs": [
    {
     "data": {
      "text/html": [
       "<div>\n",
       "<style scoped>\n",
       "    .dataframe tbody tr th:only-of-type {\n",
       "        vertical-align: middle;\n",
       "    }\n",
       "\n",
       "    .dataframe tbody tr th {\n",
       "        vertical-align: top;\n",
       "    }\n",
       "\n",
       "    .dataframe thead th {\n",
       "        text-align: right;\n",
       "    }\n",
       "</style>\n",
       "<table border=\"1\" class=\"dataframe\">\n",
       "  <thead>\n",
       "    <tr style=\"text-align: right;\">\n",
       "      <th></th>\n",
       "      <th>0</th>\n",
       "    </tr>\n",
       "  </thead>\n",
       "  <tbody>\n",
       "    <tr>\n",
       "      <th>0</th>\n",
       "      <td>Drame romanesque,mélodrame rétro,\"De l'eau pour les éléphants\" se charge de faire revivre les épopées aux grands sentiments amoureux,aux reconstitutioons luxueux,et au lyrisme assumé.Agréable à l'oeil,valorisé par un casting finalement réussi;le film de Francis lawrence,nous plonge au coeur d'un cirque itinérant,pendant la Grande Dépression.Cette troupe de saltimbanque représentait en quelque sorte le rêve,l'évasion à travers ses numéros grandioses.Immersion réussie dans cet univers très cinématographique,même si le must du genre demeure l'inégalable \"Bronco Billy\" de Clint Eastwood.On est également impressionné par l'éléphante,pivot du récit.Par contre,que le triangle amoureux est niaiseux,prévisble et manichéen.Si Christoph Waltz procure quelques moments électriques en chef de cirque intolérant et jaloux,on ne peut en dire autant de Reese Witherspoon,complètement à côté de ses pompes et de Robert Pattinson,qui en restait à ses 2 expressions tièdes.Et finalement,on se rend qu'il manque l'essentiel:le souffle romanesque,la grâce,l'âme pourrait-on conclure...</td>\n",
       "    </tr>\n",
       "    <tr>\n",
       "      <th>1</th>\n",
       "      <td>Julie Taymor continue de tracer un sillon particulier.Après les peintures de \"Frida\",elle prend fait et cause pour le mouvement hippie à travers \"Across the universe\".Vous l'aurez compris,nous sommes en plein dans les années 60.L'originalité colorée,c'est qu'il s'agit d'une comédie musicale formée à partir des standards des Beatles,comme \"Let it be\"ou \"Strawberry Fields Forever\".Ainsi chaque tableau musical se forme dans une explosion de couleurs vives avec des personnages libres.Des toiles inspirés du pop art de Andy Warhol.Toute la période est retracée,des émeutes de Détroit à Greenwich Village en passant par les docks de Liverpool et la guerre du Vietnam.Taymor est tellement convaincue du pouvoir du \"peace and love\" qu'elle tombe dans la contemplation et le premier degré exagéré.On n'échappe pas aux bons sentiments et au côté très gnan-gnan.De plus,les stéréotypes sur les hippies ne sont qu'accentués(voir notamment l'apparition surprise de Bono).Fatiguant à la longue de baigner dans cet optimisme béat,même si visuellement ce n'est pas désagréable.</td>\n",
       "    </tr>\n",
       "    <tr>\n",
       "      <th>2</th>\n",
       "      <td>Super blonde ou super nul, cest au choix dans les deux cas ce film est une bouse menée de mains de maître par une des actrices les plus mauvaises qu il m ai ete donné de voir, affligent</td>\n",
       "    </tr>\n",
       "    <tr>\n",
       "      <th>3</th>\n",
       "      <td>Si les institutions morales disent que les films d'horreur, d'action et de SF sont dangereux pour les gosses, elles feraient mieux de se pencher sur ces oeuvres (!?!) pour gosses plus dangereuses que n'importe quel film qu'ils regarderaient en cachette par sa glorification de la bêtise la plus crasse, l'humour le plus débile, la production design la plus laide, et les idéaux développés tout simplement dangereux. Quete de célbrité, vengeance... Laisser les mater les Myasaki, et les pixar ça ce sont des films utiles à un bon développement et à mater en famille</td>\n",
       "    </tr>\n",
       "    <tr>\n",
       "      <th>4</th>\n",
       "      <td>Après une bande-annonce très rythmée et attractive, un film assez lent et ennuyeux sur la déliquescence d'un jeune couple franco-italien à Jérusalem au moment de la 1ère guerre du Golfe. La tension est donnée effectivement par les missiles irakiens dans le ciel d'Israël. Les 2 moments les plus émouvants ont été pour moi la scène de la mère qui, envers et contre tout, décide de rejoindre sa fille en train d'accoucher seule en pleine nuit et la scène d'une alerte au cours de laquelle la jeune accouchée doit protéger son enfant dans une \"cage\". Sinon c'est simplement la vie ordinaire d'un couple dans une ville extraordinaire et dans des circonstances elles aussi extraordinaires.</td>\n",
       "    </tr>\n",
       "  </tbody>\n",
       "</table>\n",
       "</div>"
      ],
      "text/plain": [
       "                                                                                                                                                                                                                                                                                                                                                                                                                                                                                                                                                                                                                                                                                                                                                                                                                                                                                                                                                                                                                                                                                                                    0\n",
       "0  Drame romanesque,mélodrame rétro,\"De l'eau pour les éléphants\" se charge de faire revivre les épopées aux grands sentiments amoureux,aux reconstitutioons luxueux,et au lyrisme assumé.Agréable à l'oeil,valorisé par un casting finalement réussi;le film de Francis lawrence,nous plonge au coeur d'un cirque itinérant,pendant la Grande Dépression.Cette troupe de saltimbanque représentait en quelque sorte le rêve,l'évasion à travers ses numéros grandioses.Immersion réussie dans cet univers très cinématographique,même si le must du genre demeure l'inégalable \"Bronco Billy\" de Clint Eastwood.On est également impressionné par l'éléphante,pivot du récit.Par contre,que le triangle amoureux est niaiseux,prévisble et manichéen.Si Christoph Waltz procure quelques moments électriques en chef de cirque intolérant et jaloux,on ne peut en dire autant de Reese Witherspoon,complètement à côté de ses pompes et de Robert Pattinson,qui en restait à ses 2 expressions tièdes.Et finalement,on se rend qu'il manque l'essentiel:le souffle romanesque,la grâce,l'âme pourrait-on conclure...\n",
       "1          Julie Taymor continue de tracer un sillon particulier.Après les peintures de \"Frida\",elle prend fait et cause pour le mouvement hippie à travers \"Across the universe\".Vous l'aurez compris,nous sommes en plein dans les années 60.L'originalité colorée,c'est qu'il s'agit d'une comédie musicale formée à partir des standards des Beatles,comme \"Let it be\"ou \"Strawberry Fields Forever\".Ainsi chaque tableau musical se forme dans une explosion de couleurs vives avec des personnages libres.Des toiles inspirés du pop art de Andy Warhol.Toute la période est retracée,des émeutes de Détroit à Greenwich Village en passant par les docks de Liverpool et la guerre du Vietnam.Taymor est tellement convaincue du pouvoir du \"peace and love\" qu'elle tombe dans la contemplation et le premier degré exagéré.On n'échappe pas aux bons sentiments et au côté très gnan-gnan.De plus,les stéréotypes sur les hippies ne sont qu'accentués(voir notamment l'apparition surprise de Bono).Fatiguant à la longue de baigner dans cet optimisme béat,même si visuellement ce n'est pas désagréable.\n",
       "2                                                                                                                                                                                                                                                                                                                                                                                                                                                                                                                                                                                                                                                                                                                                                                                                                                                                                                                           Super blonde ou super nul, cest au choix dans les deux cas ce film est une bouse menée de mains de maître par une des actrices les plus mauvaises qu il m ai ete donné de voir, affligent\n",
       "3                                                                                                                                                                                                                                                                                                                                                                                                                                                                                                                                Si les institutions morales disent que les films d'horreur, d'action et de SF sont dangereux pour les gosses, elles feraient mieux de se pencher sur ces oeuvres (!?!) pour gosses plus dangereuses que n'importe quel film qu'ils regarderaient en cachette par sa glorification de la bêtise la plus crasse, l'humour le plus débile, la production design la plus laide, et les idéaux développés tout simplement dangereux. Quete de célbrité, vengeance... Laisser les mater les Myasaki, et les pixar ça ce sont des films utiles à un bon développement et à mater en famille\n",
       "4                                                                                                                                                                                                                                                                                                                                                                                                        Après une bande-annonce très rythmée et attractive, un film assez lent et ennuyeux sur la déliquescence d'un jeune couple franco-italien à Jérusalem au moment de la 1ère guerre du Golfe. La tension est donnée effectivement par les missiles irakiens dans le ciel d'Israël. Les 2 moments les plus émouvants ont été pour moi la scène de la mère qui, envers et contre tout, décide de rejoindre sa fille en train d'accoucher seule en pleine nuit et la scène d'une alerte au cours de laquelle la jeune accouchée doit protéger son enfant dans une \"cage\". Sinon c'est simplement la vie ordinaire d'un couple dans une ville extraordinaire et dans des circonstances elles aussi extraordinaires."
      ]
     },
     "execution_count": 12,
     "metadata": {},
     "output_type": "execute_result"
    }
   ],
   "source": [
    "pd.DataFrame(false_pos[:5])"
   ]
  },
  {
   "cell_type": "code",
   "execution_count": 13,
   "metadata": {
    "scrolled": true
   },
   "outputs": [
    {
     "data": {
      "text/html": [
       "<div>\n",
       "<style scoped>\n",
       "    .dataframe tbody tr th:only-of-type {\n",
       "        vertical-align: middle;\n",
       "    }\n",
       "\n",
       "    .dataframe tbody tr th {\n",
       "        vertical-align: top;\n",
       "    }\n",
       "\n",
       "    .dataframe thead th {\n",
       "        text-align: right;\n",
       "    }\n",
       "</style>\n",
       "<table border=\"1\" class=\"dataframe\">\n",
       "  <thead>\n",
       "    <tr style=\"text-align: right;\">\n",
       "      <th></th>\n",
       "      <th>0</th>\n",
       "    </tr>\n",
       "  </thead>\n",
       "  <tbody>\n",
       "    <tr>\n",
       "      <th>0</th>\n",
       "      <td>Encore un film majeur tres mal distribué, comme par hasard... comme si on voulait nous empecher de comprendre comment on peut se faire gangrener par le mal. Est-ce que vous comprenez ? 4,5/5; cinematographiquement parlant.</td>\n",
       "    </tr>\n",
       "    <tr>\n",
       "      <th>1</th>\n",
       "      <td>\"Le film le plus terrifiant de tous les temps\" ? Non du moins plus maintenant, pour une génération qui a grandi avec \"Ring\" ou \"The Grudge\", un lit qui fait nawak' ou un peu de vomi diabolique n'ont plus grand chose d'effrayant. Mais le pilier des films d'épouvante moderne, oui sans aucun doute. Le film n'use d'aucune facilité grossière comme on en voit trop souvent (j'ai tout de même été impressionné par l'absence TOTALE de jumpscare, mes tympans n'en sont que plus heureux) et mise sur un élément primordial pour provoquer le malaise: l'ambiance. Il faudra en effet être patient pour avoir droit aux crises de la petite Raegan, qui n'arrivent qu'après une heure et demi de diagnostics et de problèmes familiaux. D'ici-là il faudra se contenter de quelques rares images subliminales plus intriguantes qu'effrayantes. Cela peut paraître long, mais nécessaire pour installer une atmosphère digne de ce nom. Et même lorsque le mal est fait, le film compte plus sur l'inquiétante étrangeté que l'hémoglobine pour un résultat qui, il faut l'admettre, donne quelques frissons. D'autant qu'hormis un effet un peu cheap lors de la scène de l'escalier, le film n'a visuellement pas pris une ride. Le maquillage est d'une qualité formidable, de même que le jeu d'acteur en particulier concernant la petite Linda Blair, s'imposant à l'époque comme l'une des meilleurs enfants acteurs/actrices. Enfin, le film a le bon goût, malgré les apparences, de ne pas limiter le diable à celui du catholicisme, préférant aller chercher le mal chez les croyances antiques, d'où l'intérêt de la scène d'ouverture dont j'ai mis un temps à saisir le but. Ce serait mentir de dire que les deux heures ne m'en ont paru qu'une seule, l'heure et demi de préparation n'est pas passé comme une lettre à la poste. Mais une fois le ver dans le fruit le résultat n'en est que plus saisissant et cette mise en place n’apparaît plus comme longue mais nécessaire. \"L'Exorciste\" n'a pas usurpé sa réputation de film culte.</td>\n",
       "    </tr>\n",
       "    <tr>\n",
       "      <th>2</th>\n",
       "      <td>Film tout simplement énorme. Enorme pour plusieurs raisons, la première c'est parce qu'on a un véritable personnage devant nous pendant plus de deux heures, ce personnage parle, s'explique. Il est tout simple avec sa coupe de cheveux que ne renierait pas Nicolas Cage, son petit bide, et son gros cigare, fumant sans arrêt. Et puis on a ceux qui l'interviewe. Mal à l'aise, essayant de paraître intelligent, alors qu'ils ne font que se rétamer face à un Godard parfois limite autiste, refusant de comprendre ce qu'on lui dit. Godard s'exprime sur son expo, sur notre musique (qu'il faut voir avant de voir le film sinon il y a bien un quart d'heure où vous serez perdu. Godard parle beaucoup de juifs, je crois qu'il n'a pas abandonné l'idée que les juifs se sont laissés emmené dans les camps comme des moutons (il le dit lui même). Godard n'aime pas le cinéma Hollywoodien, les films avec Bruce Willis Sa vision est assez chaotique, dur de la résumer. à noter que le film n'est pas qu'une longue interview, mais Godard s'exprime sur des sujets différents dans des lieux différents, et dans des temps différents, on sent dans son regard surtout à la fin une sorte de déception sur son expo, sur la vie. Godard aime rire, mais son public semble parfois indifférent à son humour, lui hilare raconte quelque chose et un contre champ montre l'audience limite consternée, c'est assez marrant à voir. Bref je conseillerai de voir ce film pour tout ceux qui ne sont pas allergique à la voix de Godard, et d'en prendre de la graine</td>\n",
       "    </tr>\n",
       "    <tr>\n",
       "      <th>3</th>\n",
       "      <td>Curieusement, moins d'un quart de siècle après sa sortie, on constate que la plupart des intervenants de Garçon! (1983) ne sont déjà plus parmi nous. A savoir, son réalisateur Claude Sautet, et ses acteurs, Yves Montand, Jacques Villeret, Bernard Fresson, Yves Robert, Dominique Laffin , Hubert Deschamps et Henri Gènes. Sans parler que la sclérose en plaque qui touche toujours Marie Dubois se développa durant ce tournage maudit. Mais heureusement, outre la poisse qui a touché ce film, on garde un agréable souvenir de ce Sautet bon cru. Certes, on sent comme un léger essoufflement (Sautet n'allait plus tourner pendant cinq ans ensuite) dans cette manière de réaliser à laquelle il nous avait habitué, depuis 1970 et Les Choses de la vie'. Et poursuivie par plusieurs film majeurs dans sa carrière: Max et les ferrailleurs' (1971), César et Rosalie' (1972), Vincent, François, Paul et les Autres' (1974), Mado' (1976), Une histoire simple' (1978) et Un mauvais fils' (1980). Sans pareil pour filmer la vie des gens de manière simple et documentée, tout en y amenant un scénario solide, Sautet parvient à bousculer nos points de vue, nos émotions même. Aspect relationnel du travail, plaisir et difficultés d'un couple, amitié et inimitié, l'espoir et la comédie se mêlent étroitement et judicieusement au drame. Heurtant. Le large casting  vu que personne ne refusait de tourner avec Sautet - n'avait plus qu'à faire le reste. L'ensemble du film tourne autour d'un Montand, serveur pour l'occasion et fidèle à lui-même, personnage sûr de lui, adorable mais individualiste et infidèle. L'ensemble se suit plutôt agréablement, malgré cette impression de manque persistant. Peut-être à cause de détails futiles, après tout. Parce que Nicole Garcia (en dépit de son charme certain) n'est pas Romy Schneider, voire parce que la musique de Sarde manque pour une fois de saveur. Mais on se rassure: les bars vitrés avec la fumée de cigarette ambiante sont toujours bel et bien présents.</td>\n",
       "    </tr>\n",
       "    <tr>\n",
       "      <th>4</th>\n",
       "      <td>Intouchables n'est ni plus ni moins qu'une comédie basé sur des faits réels, le film ne mérite absolument pas son succès et Omar mérite absolument pas son césar car appart rire comme un con il ne sait pas jouer (attention je l'adore mais je sais reconnaître un mec talentueux) Cluzet lui est très talentueux et aurait mérité 100 fois le césar, sinon une sympathique comédie qui ne casse pas des briques, on s'amuse bien devant ce film.</td>\n",
       "    </tr>\n",
       "  </tbody>\n",
       "</table>\n",
       "</div>"
      ],
      "text/plain": [
       "                                                                                                                                                                                                                                                                                                                                                                                                                                                                                                                                                                                                                                                                                                                                                                                                                                                                                                                                                                                                                                                                                                                                                                                                                                                                                                                                                                                                                                                                                                                                                                                                                                                                                                                                                                                                                                                                                                                                                                                                                                                                          0\n",
       "0                                                                                                                                                                                                                                                                                                                                                                                                                                                                                                                                                                                                                                                                                                                                                                                                                                                                                                                                                                                                                                                                                                                                                                                                                                                                                                                                                                                                                                                                                                                                                                                                                                                                                                                                                                                                                                            Encore un film majeur tres mal distribué, comme par hasard... comme si on voulait nous empecher de comprendre comment on peut se faire gangrener par le mal. Est-ce que vous comprenez ? 4,5/5; cinematographiquement parlant.\n",
       "1      \"Le film le plus terrifiant de tous les temps\" ? Non du moins plus maintenant, pour une génération qui a grandi avec \"Ring\" ou \"The Grudge\", un lit qui fait nawak' ou un peu de vomi diabolique n'ont plus grand chose d'effrayant. Mais le pilier des films d'épouvante moderne, oui sans aucun doute. Le film n'use d'aucune facilité grossière comme on en voit trop souvent (j'ai tout de même été impressionné par l'absence TOTALE de jumpscare, mes tympans n'en sont que plus heureux) et mise sur un élément primordial pour provoquer le malaise: l'ambiance. Il faudra en effet être patient pour avoir droit aux crises de la petite Raegan, qui n'arrivent qu'après une heure et demi de diagnostics et de problèmes familiaux. D'ici-là il faudra se contenter de quelques rares images subliminales plus intriguantes qu'effrayantes. Cela peut paraître long, mais nécessaire pour installer une atmosphère digne de ce nom. Et même lorsque le mal est fait, le film compte plus sur l'inquiétante étrangeté que l'hémoglobine pour un résultat qui, il faut l'admettre, donne quelques frissons. D'autant qu'hormis un effet un peu cheap lors de la scène de l'escalier, le film n'a visuellement pas pris une ride. Le maquillage est d'une qualité formidable, de même que le jeu d'acteur en particulier concernant la petite Linda Blair, s'imposant à l'époque comme l'une des meilleurs enfants acteurs/actrices. Enfin, le film a le bon goût, malgré les apparences, de ne pas limiter le diable à celui du catholicisme, préférant aller chercher le mal chez les croyances antiques, d'où l'intérêt de la scène d'ouverture dont j'ai mis un temps à saisir le but. Ce serait mentir de dire que les deux heures ne m'en ont paru qu'une seule, l'heure et demi de préparation n'est pas passé comme une lettre à la poste. Mais une fois le ver dans le fruit le résultat n'en est que plus saisissant et cette mise en place n’apparaît plus comme longue mais nécessaire. \"L'Exorciste\" n'a pas usurpé sa réputation de film culte.\n",
       "2                                                                                                                                                                                                                                                                                                                                                                                                                                                                                      Film tout simplement énorme. Enorme pour plusieurs raisons, la première c'est parce qu'on a un véritable personnage devant nous pendant plus de deux heures, ce personnage parle, s'explique. Il est tout simple avec sa coupe de cheveux que ne renierait pas Nicolas Cage, son petit bide, et son gros cigare, fumant sans arrêt. Et puis on a ceux qui l'interviewe. Mal à l'aise, essayant de paraître intelligent, alors qu'ils ne font que se rétamer face à un Godard parfois limite autiste, refusant de comprendre ce qu'on lui dit. Godard s'exprime sur son expo, sur notre musique (qu'il faut voir avant de voir le film sinon il y a bien un quart d'heure où vous serez perdu. Godard parle beaucoup de juifs, je crois qu'il n'a pas abandonné l'idée que les juifs se sont laissés emmené dans les camps comme des moutons (il le dit lui même). Godard n'aime pas le cinéma Hollywoodien, les films avec Bruce Willis Sa vision est assez chaotique, dur de la résumer. à noter que le film n'est pas qu'une longue interview, mais Godard s'exprime sur des sujets différents dans des lieux différents, et dans des temps différents, on sent dans son regard surtout à la fin une sorte de déception sur son expo, sur la vie. Godard aime rire, mais son public semble parfois indifférent à son humour, lui hilare raconte quelque chose et un contre champ montre l'audience limite consternée, c'est assez marrant à voir. Bref je conseillerai de voir ce film pour tout ceux qui ne sont pas allergique à la voix de Godard, et d'en prendre de la graine\n",
       "3  Curieusement, moins d'un quart de siècle après sa sortie, on constate que la plupart des intervenants de Garçon! (1983) ne sont déjà plus parmi nous. A savoir, son réalisateur Claude Sautet, et ses acteurs, Yves Montand, Jacques Villeret, Bernard Fresson, Yves Robert, Dominique Laffin , Hubert Deschamps et Henri Gènes. Sans parler que la sclérose en plaque qui touche toujours Marie Dubois se développa durant ce tournage maudit. Mais heureusement, outre la poisse qui a touché ce film, on garde un agréable souvenir de ce Sautet bon cru. Certes, on sent comme un léger essoufflement (Sautet n'allait plus tourner pendant cinq ans ensuite) dans cette manière de réaliser à laquelle il nous avait habitué, depuis 1970 et Les Choses de la vie'. Et poursuivie par plusieurs film majeurs dans sa carrière: Max et les ferrailleurs' (1971), César et Rosalie' (1972), Vincent, François, Paul et les Autres' (1974), Mado' (1976), Une histoire simple' (1978) et Un mauvais fils' (1980). Sans pareil pour filmer la vie des gens de manière simple et documentée, tout en y amenant un scénario solide, Sautet parvient à bousculer nos points de vue, nos émotions même. Aspect relationnel du travail, plaisir et difficultés d'un couple, amitié et inimitié, l'espoir et la comédie se mêlent étroitement et judicieusement au drame. Heurtant. Le large casting  vu que personne ne refusait de tourner avec Sautet - n'avait plus qu'à faire le reste. L'ensemble du film tourne autour d'un Montand, serveur pour l'occasion et fidèle à lui-même, personnage sûr de lui, adorable mais individualiste et infidèle. L'ensemble se suit plutôt agréablement, malgré cette impression de manque persistant. Peut-être à cause de détails futiles, après tout. Parce que Nicole Garcia (en dépit de son charme certain) n'est pas Romy Schneider, voire parce que la musique de Sarde manque pour une fois de saveur. Mais on se rassure: les bars vitrés avec la fumée de cigarette ambiante sont toujours bel et bien présents.\n",
       "4                                                                                                                                                                                                                                                                                                                                                                                                                                                                                                                                                                                                                                                                                                                                                                                                                                                                                                                                                                                                                                                                                                                                                                                                                                                                                                                                                                                                                                                                                                                                                                                                                       Intouchables n'est ni plus ni moins qu'une comédie basé sur des faits réels, le film ne mérite absolument pas son succès et Omar mérite absolument pas son césar car appart rire comme un con il ne sait pas jouer (attention je l'adore mais je sais reconnaître un mec talentueux) Cluzet lui est très talentueux et aurait mérité 100 fois le césar, sinon une sympathique comédie qui ne casse pas des briques, on s'amuse bien devant ce film."
      ]
     },
     "execution_count": 13,
     "metadata": {},
     "output_type": "execute_result"
    }
   ],
   "source": [
    "pd.DataFrame(false_neg[:5])"
   ]
  },
  {
   "cell_type": "markdown",
   "metadata": {},
   "source": [
    "## Save"
   ]
  },
  {
   "cell_type": "code",
   "execution_count": 11,
   "metadata": {},
   "outputs": [],
   "source": [
    "import pickle\n",
    "\n",
    "with open('data/tf-idf/best_clf.pickle', 'wb') as f:\n",
    "    pickle.dump(best_clf, f)"
   ]
  },
  {
   "cell_type": "markdown",
   "metadata": {},
   "source": [
    "# Testing best model"
   ]
  },
  {
   "cell_type": "code",
   "execution_count": 3,
   "metadata": {},
   "outputs": [],
   "source": [
    "import pickle\n",
    "\n",
    "with open('data/tf-idf/best_clf.pickle', 'rb') as f:\n",
    "    best_clf = pickle.load(f)"
   ]
  },
  {
   "cell_type": "code",
   "execution_count": 15,
   "metadata": {},
   "outputs": [
    {
     "name": "stdout",
     "output_type": "stream",
     "text": [
      "Test Accuracy: 94.38\n",
      "Test F1-Score: 94.19\n",
      "\n",
      "              precision    recall  f1-score   support\n",
      "\n",
      "    Negative       0.95      0.94      0.95     10408\n",
      "    Positive       0.93      0.95      0.94      9592\n",
      "\n",
      "    accuracy                           0.94     20000\n",
      "   macro avg       0.94      0.94      0.94     20000\n",
      "weighted avg       0.94      0.94      0.94     20000\n",
      "\n"
     ]
    }
   ],
   "source": [
    "from sklearn import metrics \n",
    "\n",
    "y_pred = best_clf.predict(X_test)\n",
    "\n",
    "print(\"Test Accuracy: {:.2f}\".format(100 * metrics.accuracy_score(y_test, y_pred)))\n",
    "print(\"Test F1-Score: {:.2f}\".format(100 * metrics.f1_score(y_test, y_pred)))\n",
    "print()\n",
    "\n",
    "report = metrics.classification_report(\n",
    "    y_test, y_pred, \n",
    "    target_names=class_names.values()\n",
    ")\n",
    "print(report)"
   ]
  },
  {
   "cell_type": "code",
   "execution_count": 17,
   "metadata": {},
   "outputs": [
    {
     "data": {
      "image/png": "[encoded data removed]",
      "text/plain": [
       "<Figure size 504x360 with 2 Axes>"
      ]
     },
     "metadata": {},
     "output_type": "display_data"
    }
   ],
   "source": [
    "from utils import print_confusion_matrix\n",
    "from sklearn.metrics import confusion_matrix\n",
    "\n",
    "conf_mx = confusion_matrix(y_test, y_pred)\n",
    "\n",
    "fig = print_confusion_matrix(\n",
    "    conf_mx, \n",
    "    class_names.values(), \n",
    "    figsize=(7,5)\n",
    ")\n",
    "\n",
    "# Finalize the plot\n",
    "sns.despine(bottom=True)\n",
    "plt.tight_layout(h_pad=2)\n",
    "\n",
    "# Saving plot\n",
    "fig.savefig('img/tf-idf/test_confusion_mx.png', dpi=200)"
   ]
  },
  {
   "cell_type": "markdown",
   "metadata": {},
   "source": [
    "## Accuracy vs Training data"
   ]
  },
  {
   "cell_type": "code",
   "execution_count": 19,
   "metadata": {},
   "outputs": [],
   "source": [
    "from sklearn import metrics \n",
    "\n",
    "sizes = [1000, 5000, 10000, 20000, 40000, 80000, 120000, 160000]\n",
    "\n",
    "def accuracy_vs_train_size(model, X_train, y_train, X_test, y_test, sizes):    \n",
    "    test_accuracies = []\n",
    "    for size in sizes:\n",
    "        # Train model on data subset\n",
    "        model.fit(X_train[:size], y_train[:size])\n",
    "        y_pred = model.predict(X_test)\n",
    "        \n",
    "        # Evaluate on test set\n",
    "        test_acc = metrics.accuracy_score(y_test, y_pred)\n",
    "        test_accuracies.append(test_acc)\n",
    "\n",
    "    return test_accuracies"
   ]
  },
  {
   "cell_type": "code",
   "execution_count": 21,
   "metadata": {},
   "outputs": [
    {
     "name": "stderr",
     "output_type": "stream",
     "text": [
      "[Parallel(n_jobs=-1)]: Using backend LokyBackend with 12 concurrent workers.\n",
      "[Parallel(n_jobs=-1)]: Done   1 out of   1 | elapsed:    0.4s finished\n",
      "[Parallel(n_jobs=-1)]: Using backend LokyBackend with 12 concurrent workers.\n",
      "[Parallel(n_jobs=-1)]: Done   1 out of   1 | elapsed:    1.9s finished\n",
      "[Parallel(n_jobs=-1)]: Using backend LokyBackend with 12 concurrent workers.\n",
      "[Parallel(n_jobs=-1)]: Done   1 out of   1 | elapsed:    2.4s finished\n",
      "[Parallel(n_jobs=-1)]: Using backend LokyBackend with 12 concurrent workers.\n",
      "[Parallel(n_jobs=-1)]: Done   1 out of   1 | elapsed:    6.3s finished\n",
      "[Parallel(n_jobs=-1)]: Using backend LokyBackend with 12 concurrent workers.\n",
      "[Parallel(n_jobs=-1)]: Done   1 out of   1 | elapsed:   12.4s finished\n",
      "[Parallel(n_jobs=-1)]: Using backend LokyBackend with 12 concurrent workers.\n",
      "[Parallel(n_jobs=-1)]: Done   1 out of   1 | elapsed:   24.9s finished\n",
      "[Parallel(n_jobs=-1)]: Using backend LokyBackend with 12 concurrent workers.\n",
      "[Parallel(n_jobs=-1)]: Done   1 out of   1 | elapsed:   35.9s finished\n",
      "[Parallel(n_jobs=-1)]: Using backend LokyBackend with 12 concurrent workers.\n",
      "[Parallel(n_jobs=-1)]: Done   1 out of   1 | elapsed:   47.5s finished\n"
     ]
    }
   ],
   "source": [
    "test_accuracies = accuracy_vs_train_size(\n",
    "    best_clf, X_train, y_train,\n",
    "    X_test, y_test, sizes\n",
    ")"
   ]
  },
  {
   "cell_type": "code",
   "execution_count": 27,
   "metadata": {},
   "outputs": [],
   "source": [
    "import pickle\n",
    "\n",
    "OUTPUT_PATH = 'data/tf-idf/tfidf_accuracies.pickle'\n",
    "\n",
    "output_dict = {\n",
    "    \"sizes\": sizes,\n",
    "    \"test_accuracies\": test_accuracies\n",
    "}\n",
    "\n",
    "with open(OUTPUT_PATH, 'wb') as writer:\n",
    "    pickle.dump(output_dict, writer)"
   ]
  },
  {
   "cell_type": "markdown",
   "metadata": {},
   "source": [
    "## Inference time"
   ]
  },
  {
   "cell_type": "code",
   "execution_count": null,
   "metadata": {},
   "outputs": [],
   "source": [
    "import pickle\n",
    "\n",
    "with open('data/tf-idf/best_clf.pickle', 'rb') as f:\n",
    "    best_clf = pickle.load(f)"
   ]
  },
  {
   "cell_type": "code",
   "execution_count": 7,
   "metadata": {},
   "outputs": [],
   "source": [
    "import time\n",
    "\n",
    "inference_times = []\n",
    "\n",
    "for i in range(1000):\n",
    "    x = np.array([X_test[i], ])\n",
    "    start_time = time.time()\n",
    "    y_pred = best_clf.predict(x)\n",
    "    stop_time = time.time()\n",
    "    \n",
    "    inference_times.append(stop_time - start_time)    "
   ]
  },
  {
   "cell_type": "code",
   "execution_count": 8,
   "metadata": {},
   "outputs": [],
   "source": [
    "OUTPUT_PATH = 'data/tf-idf/tfidf_times.pickle'\n",
    "\n",
    "with open(OUTPUT_PATH, 'wb') as writer:\n",
    "    pickle.dump(inference_times, writer)"
   ]
  },
  {
   "cell_type": "markdown",
   "metadata": {},
   "source": [
    "## Generalizability"
   ]
  },
  {
   "cell_type": "code",
   "execution_count": 32,
   "metadata": {},
   "outputs": [],
   "source": [
    "import pickle\n",
    "\n",
    "with open('data/tf-idf/best_clf.pickle', 'rb') as f:\n",
    "    best_clf = pickle.load(f)"
   ]
  },
  {
   "cell_type": "code",
   "execution_count": 50,
   "metadata": {},
   "outputs": [
    {
     "name": "stdout",
     "output_type": "stream",
     "text": [
      "> Folder: data/cls-acl10-unprocessed/fr/books\n",
      "  Len Train: 2000. Len Test: 2000.\n",
      "> Folder: data/cls-acl10-unprocessed/fr/dvd\n",
      "  Len Train: 2000. Len Test: 2000.\n",
      "> Folder: data/cls-acl10-unprocessed/fr/music\n",
      "  Len Train: 2000. Len Test: 2000.\n"
     ]
    }
   ],
   "source": [
    "import os\n",
    "from utils_acl import get_data\n",
    "\n",
    "ACL_FOLDER = 'data/cls-acl10-unprocessed/fr'\n",
    "BOOKS_FOLDER = os.path.join(ACL_FOLDER, 'books')\n",
    "DVD_FOLDER = os.path.join(ACL_FOLDER, 'dvd')\n",
    "MUSIC_FOLDER = os.path.join(ACL_FOLDER, 'music')\n",
    "\n",
    "_, _, X_test_b, y_test_b = get_data(BOOKS_FOLDER)\n",
    "_, _, X_test_d, y_test_d = get_data(DVD_FOLDER)\n",
    "_, _, X_test_m, y_test_m = get_data(MUSIC_FOLDER)"
   ]
  },
  {
   "cell_type": "code",
   "execution_count": 51,
   "metadata": {},
   "outputs": [],
   "source": [
    "from sklearn import metrics \n",
    "\n",
    "def evaluate(model, X, y):\n",
    "    y_pred = model.predict(X)\n",
    "    print(\"Accuracy: {:.2f}\".format(100 * metrics.accuracy_score(y, y_pred)))\n",
    "    print(\"F1-Score: {:.2f}\".format(100 * metrics.f1_score(y, y_pred)))"
   ]
  },
  {
   "cell_type": "markdown",
   "metadata": {},
   "source": [
    "### Books"
   ]
  },
  {
   "cell_type": "code",
   "execution_count": 52,
   "metadata": {},
   "outputs": [
    {
     "name": "stdout",
     "output_type": "stream",
     "text": [
      "Accuracy: 87.10\n",
      "F1-Score: 87.40\n"
     ]
    }
   ],
   "source": [
    "evaluate(best_clf, X_test_b, y_test_b)"
   ]
  },
  {
   "cell_type": "markdown",
   "metadata": {},
   "source": [
    "### DVD"
   ]
  },
  {
   "cell_type": "code",
   "execution_count": 53,
   "metadata": {},
   "outputs": [
    {
     "name": "stdout",
     "output_type": "stream",
     "text": [
      "Accuracy: 88.10\n",
      "F1-Score: 88.59\n"
     ]
    }
   ],
   "source": [
    "evaluate(best_clf, X_test_d, y_test_d)"
   ]
  },
  {
   "cell_type": "markdown",
   "metadata": {},
   "source": [
    "### Music"
   ]
  },
  {
   "cell_type": "code",
   "execution_count": 54,
   "metadata": {},
   "outputs": [
    {
     "name": "stdout",
     "output_type": "stream",
     "text": [
      "Accuracy: 87.45\n",
      "F1-Score: 88.14\n"
     ]
    }
   ],
   "source": [
    "evaluate(best_clf, X_test_m, y_test_m)"
   ]
  }
 ],
 "metadata": {
  "kernelspec": {
   "display_name": "Python 3",
   "language": "python",
   "name": "python3"
  },
  "language_info": {
   "codemirror_mode": {
    "name": "ipython",
    "version": 3
   },
   "file_extension": ".py",
   "mimetype": "text/x-python",
   "name": "python",
   "nbconvert_exporter": "python",
   "pygments_lexer": "ipython3",
   "version": "3.7.5"
  }
 },
 "nbformat": 4,
 "nbformat_minor": 4
}
