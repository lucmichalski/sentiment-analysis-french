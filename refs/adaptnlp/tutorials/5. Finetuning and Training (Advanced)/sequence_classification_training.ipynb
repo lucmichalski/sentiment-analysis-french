{
 "cells": [
  {
   "cell_type": "markdown",
   "metadata": {},
   "source": [
    "# Training Sequence Classifier Head"
   ]
  },
  {
   "cell_type": "code",
   "execution_count": null,
   "metadata": {},
   "outputs": [],
   "source": [
    "from adaptnlp import EasyDocumentEmbeddings, SequenceClassifierTrainer\n",
    "from flair.datasets import TREC_6"
   ]
  },
  {
   "cell_type": "markdown",
   "metadata": {},
   "source": [
    "### 1. Initialize corpus, output directory for the model, and document embeddings"
   ]
  },
  {
   "cell_type": "code",
   "execution_count": null,
   "metadata": {},
   "outputs": [],
   "source": [
    "corpus = TREC_6() # Or path to directory of train.csv, test.csv, dev.csv files at \"Path/to/data/directory\" \n",
    "OUTPUT_DIR = \"Path/to/model/output/directory\" \n",
    "doc_embeddings = EasyDocumentEmbeddings(\"bert-base-cased\", methods = [\"rnn\"])"
   ]
  },
  {
   "cell_type": "markdown",
   "metadata": {},
   "source": [
    "### 2. Initialize Sequence Classification Trainer"
   ]
  },
  {
   "cell_type": "code",
   "execution_count": null,
   "metadata": {},
   "outputs": [],
   "source": [
    "sc_configs = {\n",
    "              \"corpus\": corpus,\n",
    "              \"encoder\": doc_embeddings,\n",
    "              \"column_name_map\": {0: \"text\", 1: \"label\"},\n",
    "              \"corpus_in_memory\": True,\n",
    "              \"predictive_head\": \"flair\",\n",
    "             }\n",
    "sc_trainer = SequenceClassifierTrainer(**sc_configs)"
   ]
  },
  {
   "cell_type": "markdown",
   "metadata": {},
   "source": [
    "### 3. Find Learning Rate with automated LR finder"
   ]
  },
  {
   "cell_type": "code",
   "execution_count": null,
   "metadata": {},
   "outputs": [],
   "source": [
    "sc_lr_configs = {\n",
    "        \"output_dir\": OUTPUT_DIR,\n",
    "        \"file_name\": \"learning_rate.tsv\",\n",
    "        \"start_learning_rate\": 1e-8,\n",
    "        \"end_learning_rate\": 10,\n",
    "        \"iterations\": 100,\n",
    "        \"mini_batch_size\": 32,\n",
    "        \"stop_early\": True,\n",
    "        \"smoothing_factor\": 0.8,\n",
    "        \"plot_learning_rate\": True,\n",
    "}\n",
    "learning_rate = sc_trainer.find_learning_rate(**sc_lr_configs)"
   ]
  },
  {
   "cell_type": "markdown",
   "metadata": {},
   "source": [
    "### 4. Train Sequence Classifier"
   ]
  },
  {
   "cell_type": "code",
   "execution_count": null,
   "metadata": {},
   "outputs": [],
   "source": [
    "sc_train_configs = {\n",
    "        \"output_dir\": OUTPUT_DIR,\n",
    "        \"learning_rate\": learning_rate,\n",
    "        \"mini_batch_size\": 32,\n",
    "        \"anneal_factor\": 0.5,\n",
    "        \"patience\": 5,\n",
    "        \"max_epochs\": 150,\n",
    "        \"plot_weights\": False,\n",
    "        \"batch_growth_annealing\": False,\n",
    "}\n",
    "sc_trainer.train(**sc_train_configs)"
   ]
  },
  {
   "cell_type": "markdown",
   "metadata": {},
   "source": [
    "### 5. Load and Predict"
   ]
  },
  {
   "cell_type": "code",
   "execution_count": null,
   "metadata": {},
   "outputs": [],
   "source": [
    "from adaptnlp import EasySequenceClassifier\n",
    "# Set example text and instantiate tagger instance\n",
    "example_text = '''Where was the Queen's wedding held? '''\n",
    "\n",
    "classifier = EasySequenceClassifier()\n",
    "\n",
    "sentences = classifier.tag_text(example_text, model_name_or_path=\"../5. Finetuning and Training (Advanced)/resources/taggers/bert-base-cased-control-trec_6-finetuned/final-model.pt\")\n",
    "print(\"Label output:\\n\")\n",
    "for sentence in sentences:\n",
    "    print(sentence.labels)"
   ]
  },
  {
   "cell_type": "markdown",
   "metadata": {},
   "source": [
    "# Training Sequence Classifier on Finetuned Model"
   ]
  },
  {
   "cell_type": "code",
   "execution_count": null,
   "metadata": {},
   "outputs": [],
   "source": [
    "corpus = TREC_6() # Or path to directory of train.csv, test.csv, dev.csv files at \"Path/to/data/directory\" \n",
    "OUTPUT_DIR = \"Path/to/model/output/directory\"\n",
    "FINETUNED_MODEL_DIR = \"Path/to/finetuned/model/directory\"\n",
    "doc_embeddings = EasyDocumentEmbeddings(FINETUNED_MODEL_DIR, methods = [\"rnn\"])"
   ]
  },
  {
   "cell_type": "code",
   "execution_count": null,
   "metadata": {},
   "outputs": [],
   "source": [
    "sc_configs = {\n",
    "              \"corpus\": corpus,\n",
    "              \"encoder\": doc_embeddings,\n",
    "              \"column_name_map\": {0: \"text\", 1: \"label\"},\n",
    "              \"corpus_in_memory\": True,\n",
    "              \"predictive_head\": \"flair\",\n",
    "             }\n",
    "sc_trainer = SequenceClassifierTrainer(**sc_configs)"
   ]
  },
  {
   "cell_type": "code",
   "execution_count": null,
   "metadata": {},
   "outputs": [],
   "source": [
    "sc_lr_configs = {\n",
    "        \"output_dir\": OUTPUT_DIR,\n",
    "        \"start_learning_rate\": 1e-8,\n",
    "        \"end_learning_rate\": 10,\n",
    "        \"iterations\": 100,\n",
    "        \"mini_batch_size\": 32,\n",
    "        \"stop_early\": True,\n",
    "        \"smoothing_factor\": 0.8,\n",
    "        \"plot_learning_rate\": True,\n",
    "}\n",
    "learning_rate = sc_trainer.find_learning_rate(**sc_lr_configs)"
   ]
  },
  {
   "cell_type": "code",
   "execution_count": null,
   "metadata": {},
   "outputs": [],
   "source": [
    "sc_train_configs = {\n",
    "        \"output_dir\": OUTPUT_DIR,\n",
    "        \"learning_rate\": learning_rate,\n",
    "        \"mini_batch_size\": 32,\n",
    "        \"anneal_factor\": 0.5,\n",
    "        \"patience\": 5,\n",
    "        \"max_epochs\": 150,\n",
    "        \"plot_weights\": False,\n",
    "        \"batch_growth_annealing\": False,\n",
    "}\n",
    "sc_trainer.train(**sc_train_configs)"
   ]
  },
  {
   "cell_type": "code",
   "execution_count": null,
   "metadata": {},
   "outputs": [],
   "source": []
  }
 ],
 "metadata": {
  "kernelspec": {
   "display_name": "Python 3",
   "language": "python",
   "name": "python3"
  },
  "language_info": {
   "codemirror_mode": {
    "name": "ipython",
    "version": 3
   },
   "file_extension": ".py",
   "mimetype": "text/x-python",
   "name": "python",
   "nbconvert_exporter": "python",
   "pygments_lexer": "ipython3",
   "version": "3.6.8"
  }
 },
 "nbformat": 4,
 "nbformat_minor": 4
}
