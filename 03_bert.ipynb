{
 "cells": [
  {
   "cell_type": "code",
   "execution_count": 1,
   "metadata": {},
   "outputs": [],
   "source": [
    "import numpy as np\n",
    "import pandas as pd\n",
    "import seaborn as sns\n",
    "import matplotlib.pyplot as plt\n",
    "\n",
    "# better display of review text in dataframes\n",
    "pd.set_option('display.max_colwidth', None) \n",
    "\n",
    "# Seaborn options\n",
    "sns.set(style=\"whitegrid\", font_scale=1.4)\n",
    "\n",
    "# Auto reload modules\n",
    "%load_ext autoreload\n",
    "%autoreload 2"
   ]
  },
  {
   "cell_type": "code",
   "execution_count": 2,
   "metadata": {},
   "outputs": [],
   "source": [
    "import tensorflow as tf\n",
    "assert tf.__version__ >= \"2.0\""
   ]
  },
  {
   "cell_type": "markdown",
   "metadata": {},
   "source": [
    "# Prepare data"
   ]
  },
  {
   "cell_type": "markdown",
   "metadata": {},
   "source": [
    "## Load dataset"
   ]
  },
  {
   "cell_type": "code",
   "execution_count": 3,
   "metadata": {},
   "outputs": [],
   "source": [
    "import pickle\n",
    "\n",
    "PICKLE_PATH = \"allocine_dataset/data/allocine_dataset.pickle\"\n",
    "\n",
    "with open(PICKLE_PATH, 'rb') as reader:\n",
    "    data = pickle.load(reader)\n",
    "\n",
    "# Reviews need to be tokenized\n",
    "train_reviews = np.array(data[\"train_set\"]['review'])\n",
    "val_reviews = np.array(data[\"val_set\"]['review'])\n",
    "test_reviews = np.array(data[\"test_set\"]['review'])\n",
    "\n",
    "train_labels = data[\"train_set\"]['polarity']\n",
    "val_labels = data[\"val_set\"]['polarity']\n",
    "test_labels = data[\"test_set\"]['polarity']\n",
    "class_names = data['class_names']"
   ]
  },
  {
   "cell_type": "markdown",
   "metadata": {},
   "source": [
    "## Preprocess dataset"
   ]
  },
  {
   "cell_type": "markdown",
   "metadata": {},
   "source": [
    "### Tokenize"
   ]
  },
  {
   "cell_type": "code",
   "execution_count": 4,
   "metadata": {},
   "outputs": [],
   "source": [
    "from transformers import CamembertTokenizer\n",
    "\n",
    "model_name = \"camembert-base\"\n",
    "tokenizer = CamembertTokenizer.from_pretrained(model_name)"
   ]
  },
  {
   "cell_type": "code",
   "execution_count": 5,
   "metadata": {},
   "outputs": [
    {
     "data": {
      "text/plain": [
       "'Si vous cherchez du cinéma abrutissant à tous les étages,n\\'ayant aucune peur du cliché en castagnettes et moralement douteux,\"From Paris with love\" est fait pour vous.Toutes les productions Besson,via sa filière EuropaCorp ont de quoi faire naître la moquerie.Paris y est encore une fois montrée comme une capitale exotique,mais attention si l\\'on se dirige vers la banlieue,on y trouve tout plein d\\'intégristes musulmans prêts à faire sauter le caisson d\\'une ambassadrice américaine.Nauséeux.Alors on se dit qu\\'on va au moins pouvoir apprécier la déconnade d\\'un classique buddy-movie avec le jeune agent aux dents longues obligé de faire équipe avec un vieux lou complètement timbré.Mais d\\'un côté,on a un Jonathan Rhys-meyers fayot au possible,et de l\\'autre un John Travolta en total délire narcissico-badass,crâne rasé et bouc proéminent à l\\'appui.Sinon,il n\\'y a aucun scénario.Seulement,des poursuites débiles sur l\\'autoroute,Travolta qui étale 10 mecs à l\\'arme blanche en 8 mouvements(!!)ou laisse son associé se faire démolir la tronche pendant qu\\'il scrute à la jumelle.Ca pourrait être un plaisir coupable,tellement c\\'est \"hénaurme\",c\\'est juste de la daube dans la droite lignée d\\'un \"Transporteur\",\"Taken\"ou \"Banlieue 13\".'"
      ]
     },
     "execution_count": 5,
     "metadata": {},
     "output_type": "execute_result"
    }
   ],
   "source": [
    "some_review = train_reviews[0]\n",
    "some_review"
   ]
  },
  {
   "cell_type": "code",
   "execution_count": 6,
   "metadata": {
    "scrolled": true
   },
   "outputs": [
    {
     "data": {
      "text/plain": [
       "['▁Si',\n",
       " '▁vous',\n",
       " '▁cherchez',\n",
       " '▁du',\n",
       " '▁cinéma',\n",
       " '▁abruti',\n",
       " 'ssant',\n",
       " '▁à',\n",
       " '▁tous',\n",
       " '▁les',\n",
       " '▁étages',\n",
       " ',',\n",
       " 'n',\n",
       " \"'\",\n",
       " 'ayant']"
      ]
     },
     "execution_count": 6,
     "metadata": {},
     "output_type": "execute_result"
    }
   ],
   "source": [
    "tokenizer.tokenize(some_review)[:15]"
   ]
  },
  {
   "cell_type": "code",
   "execution_count": 7,
   "metadata": {
    "scrolled": true
   },
   "outputs": [
    {
     "data": {
      "text/plain": [
       "[5, 168, 39, 3162, 25, 1545, 29470, 2927, 15, 117, 19, 9339, 7, 255, 11]"
      ]
     },
     "execution_count": 7,
     "metadata": {},
     "output_type": "execute_result"
    }
   ],
   "source": [
    "tokenizer.encode(some_review)[:15]"
   ]
  },
  {
   "cell_type": "code",
   "execution_count": 8,
   "metadata": {},
   "outputs": [
    {
     "data": {
      "text/plain": [
       "'<s> Si vous cherchez du cinéma abrutissant à tous les étages,n\\'ayant aucune peur du cliché en castagnettes et moralement douteux,\"From Paris with love\" est fait pour vous.Toutes les productions Besson,via sa filière EuropaCorp ont de quoi faire naître la moquerie.Paris y est encore une fois montrée comme une capitale exotique,mais attention si l\\'on se dirige vers la banlieue,on y trouve tout plein d\\'intégristes musulmans prêts à faire sauter le caisson d\\'une ambassadrice américaine.Nauséeux.Alors on se dit qu\\'on va au moins pouvoir apprécier la déconnade d\\'un classique buddy-movie avec le jeune agent aux dents longues obligé de faire équipe avec un vieux lou complètement timbré.Mais d\\'un côté,on a un Jonathan Rhys-meyers fayot au possible,et de l\\'autre un John Travolta en total délire narcissico-badass,crâne rasé et bouc proéminent à l\\'appui.Sinon,il n\\'y a aucun scénario.Seulement,des poursuites débiles sur l\\'autoroute,Travolta qui étale 10 mecs à l\\'arme blanche en 8 mouvements(!!)ou laisse son associé se faire démolir la tronche pendant qu\\'il scrute à la jumelle.Ca pourrait être un plaisir coupable,tellement c\\'est \"hénaurme\",c\\'est juste de la daube dans la droite lignée d\\'un \"Transporteur\",\"Taken\"ou \"Banlieue 13\".</s>'"
      ]
     },
     "execution_count": 8,
     "metadata": {},
     "output_type": "execute_result"
    }
   ],
   "source": [
    "tokenizer.decode(tokenizer.encode(some_review))"
   ]
  },
  {
   "cell_type": "code",
   "execution_count": 5,
   "metadata": {},
   "outputs": [
    {
     "name": "stdout",
     "output_type": "stream",
     "text": [
      "Average length: 129.6\n",
      "Max length: 512\n"
     ]
    },
    {
     "data": {
      "image/png": "[encoded data removed]",
      "text/plain": [
       "<Figure size 720x360 with 1 Axes>"
      ]
     },
     "metadata": {},
     "output_type": "display_data"
    }
   ],
   "source": [
    "reviews_len = [len(tokenizer.encode(review, max_length=512))\n",
    "                          for review in train_reviews]\n",
    "print(\"Average length: {:.1f}\".format(np.mean(reviews_len)))\n",
    "print(\"Max length: {}\".format(max(reviews_len)))\n",
    "\n",
    "plt.figure(figsize=(10,5))\n",
    "ax = sns.distplot(reviews_len, bins=150, kde=False, hist_kws=dict(alpha=0.8))\n",
    "ax.set(xlabel='Number of tokens')\n",
    "\n",
    "# Finalize the plot\n",
    "sns.despine(bottom=True)\n",
    "plt.tight_layout(h_pad=2)\n",
    "\n",
    "# Saving plot\n",
    "fig = ax.get_figure()\n",
    "fig.savefig('img/bert/number_of_tokens.png', dpi=200)"
   ]
  },
  {
   "cell_type": "code",
   "execution_count": 6,
   "metadata": {},
   "outputs": [
    {
     "data": {
      "text/plain": [
       "32005"
      ]
     },
     "execution_count": 6,
     "metadata": {},
     "output_type": "execute_result"
    }
   ],
   "source": [
    "tokenizer.vocab_size"
   ]
  },
  {
   "cell_type": "code",
   "execution_count": 7,
   "metadata": {},
   "outputs": [
    {
     "name": "stdout",
     "output_type": "stream",
     "text": [
      "4717 reviews with LEN > 400 (2.95 % of total data)\n"
     ]
    }
   ],
   "source": [
    "MAX_SEQ_LEN = 400 # in terms of generated tokens (not words)\n",
    "\n",
    "short_reviews = sum(np.array(reviews_len) <= MAX_SEQ_LEN)\n",
    "long_reviews = sum(np.array(reviews_len) > MAX_SEQ_LEN)\n",
    "\n",
    "print(\"{} reviews with LEN > {} ({:.2f} % of total data)\".format(\n",
    "    long_reviews,\n",
    "    MAX_SEQ_LEN,\n",
    "    100 * long_reviews / len(reviews_len)\n",
    "))"
   ]
  },
  {
   "cell_type": "code",
   "execution_count": 8,
   "metadata": {},
   "outputs": [],
   "source": [
    "import numpy as np\n",
    "\n",
    "def encode_reviews(tokenizer, reviews, max_length):\n",
    "    token_ids = np.zeros(shape=(len(reviews), max_length),\n",
    "                         dtype=np.int32)\n",
    "    for i, review in enumerate(reviews):\n",
    "        encoded = tokenizer.encode(review, max_length=max_length)\n",
    "        token_ids[i, 0:len(encoded)] = encoded\n",
    "    attention_mask = (token_ids != 0).astype(np.int32)\n",
    "    return {\"input_ids\": token_ids, \"attention_mask\": attention_mask}"
   ]
  },
  {
   "cell_type": "code",
   "execution_count": 9,
   "metadata": {},
   "outputs": [],
   "source": [
    "encoded_train = encode_reviews(tokenizer, train_reviews, MAX_SEQ_LEN)\n",
    "encoded_valid = encode_reviews(tokenizer, val_reviews, MAX_SEQ_LEN)\n",
    "encoded_test = encode_reviews(tokenizer, test_reviews, MAX_SEQ_LEN)"
   ]
  },
  {
   "cell_type": "markdown",
   "metadata": {},
   "source": [
    "### Labels"
   ]
  },
  {
   "cell_type": "code",
   "execution_count": 10,
   "metadata": {},
   "outputs": [],
   "source": [
    "y_train = np.array(train_labels)\n",
    "y_val = np.array(val_labels)\n",
    "y_test = np.array(test_labels)"
   ]
  },
  {
   "cell_type": "markdown",
   "metadata": {},
   "source": [
    "### Preprocessing pipeline"
   ]
  },
  {
   "cell_type": "code",
   "execution_count": 11,
   "metadata": {},
   "outputs": [],
   "source": [
    "from sklearn.base import BaseEstimator, TransformerMixin\n",
    "\n",
    "class CamembertPreprocessor(BaseEstimator, TransformerMixin):\n",
    "    def __init__(self, tokenizer, max_seq_length):\n",
    "        self.tokenizer = tokenizer\n",
    "        self.max_seq_length = max_seq_length\n",
    "\n",
    "    def fit(self, X=None):\n",
    "        pass\n",
    "    \n",
    "    def transform(self, X, y):\n",
    "        # 1. Tokenize\n",
    "        X_encoded = encode_reviews(self.tokenizer, X, self.max_seq_length)\n",
    "        # 2. Labels\n",
    "        y_array = np.array(y)\n",
    "        return X_encoded, y_array     \n",
    "    \n",
    "    def fit_transform(self, X, y):        \n",
    "        return self.transform(X, y)"
   ]
  },
  {
   "cell_type": "markdown",
   "metadata": {},
   "source": [
    "# Model"
   ]
  },
  {
   "cell_type": "code",
   "execution_count": 12,
   "metadata": {},
   "outputs": [],
   "source": [
    "from transformers import TFCamembertForSequenceClassification\n",
    "\n",
    "model = TFCamembertForSequenceClassification.from_pretrained(\"jplu/tf-camembert-base\")\n",
    "\n",
    "opt = tf.keras.optimizers.Adam(learning_rate=5e-6, epsilon=1e-08)\n",
    "loss_fn = tf.keras.losses.SparseCategoricalCrossentropy(from_logits=True)    \n",
    "\n",
    "model.compile(optimizer=opt, loss=loss_fn, metrics=['accuracy'])"
   ]
  },
  {
   "cell_type": "code",
   "execution_count": 10,
   "metadata": {},
   "outputs": [
    {
     "name": "stdout",
     "output_type": "stream",
     "text": [
      "Model: \"tf_camembert_for_sequence_classification\"\n",
      "_________________________________________________________________\n",
      "Layer (type)                 Output Shape              Param #   \n",
      "=================================================================\n",
      "roberta (TFRobertaMainLayer) multiple                  110621952 \n",
      "_________________________________________________________________\n",
      "classifier (TFRobertaClassif multiple                  592130    \n",
      "=================================================================\n",
      "Total params: 111,214,082\n",
      "Trainable params: 111,214,082\n",
      "Non-trainable params: 0\n",
      "_________________________________________________________________\n"
     ]
    }
   ],
   "source": [
    "initial_weights = model.get_weights()\n",
    "model.summary()"
   ]
  },
  {
   "cell_type": "markdown",
   "metadata": {},
   "source": [
    "# Training"
   ]
  },
  {
   "cell_type": "code",
   "execution_count": 16,
   "metadata": {},
   "outputs": [
    {
     "ename": "NameError",
     "evalue": "name 'encoded_train' is not defined",
     "output_type": "error",
     "traceback": [
      "\u001b[0;31m---------------------------------------------------------------------------\u001b[0m",
      "\u001b[0;31mNameError\u001b[0m                                 Traceback (most recent call last)",
      "\u001b[0;32m<ipython-input-16-756eb6632a94>\u001b[0m in \u001b[0;36m<module>\u001b[0;34m\u001b[0m\n\u001b[1;32m      1\u001b[0m history = model.fit(\n\u001b[0;32m----> 2\u001b[0;31m     \u001b[0mencoded_train\u001b[0m\u001b[0;34m,\u001b[0m \u001b[0my_train\u001b[0m\u001b[0;34m,\u001b[0m \u001b[0mepochs\u001b[0m\u001b[0;34m=\u001b[0m\u001b[0;36m1\u001b[0m\u001b[0;34m,\u001b[0m \u001b[0mbatch_size\u001b[0m\u001b[0;34m=\u001b[0m\u001b[0;36m4\u001b[0m\u001b[0;34m,\u001b[0m\u001b[0;34m\u001b[0m\u001b[0;34m\u001b[0m\u001b[0m\n\u001b[0m\u001b[1;32m      3\u001b[0m     \u001b[0mvalidation_data\u001b[0m\u001b[0;34m=\u001b[0m\u001b[0;34m(\u001b[0m\u001b[0mencoded_valid\u001b[0m\u001b[0;34m,\u001b[0m \u001b[0my_val\u001b[0m\u001b[0;34m)\u001b[0m\u001b[0;34m,\u001b[0m \u001b[0mverbose\u001b[0m\u001b[0;34m=\u001b[0m\u001b[0;36m1\u001b[0m\u001b[0;34m\u001b[0m\u001b[0;34m\u001b[0m\u001b[0m\n\u001b[1;32m      4\u001b[0m )\n",
      "\u001b[0;31mNameError\u001b[0m: name 'encoded_train' is not defined"
     ]
    }
   ],
   "source": [
    "# TODO (in fact, done in the Accuracy vs Training Data part)\n",
    "history = model.fit(\n",
    "    encoded_train, y_train, epochs=1, batch_size=4, \n",
    "    validation_data=(encoded_valid, y_val), verbose=1\n",
    ")"
   ]
  },
  {
   "cell_type": "markdown",
   "metadata": {},
   "source": [
    "# Accuracy vs Training Data"
   ]
  },
  {
   "cell_type": "code",
   "execution_count": 11,
   "metadata": {},
   "outputs": [],
   "source": [
    "from sklearn.base import BaseEstimator\n",
    "\n",
    "class EarlyStoppingModel(BaseEstimator):\n",
    "    def __init__(self, transformers_model, max_epoches, batch_size, validation_data):\n",
    "        self.model = transformers_model\n",
    "        self.max_epoches = max_epoches\n",
    "        self.batch_size = batch_size\n",
    "        self.validation_data = validation_data\n",
    "        \n",
    "    def fit(self, X, y):\n",
    "        # Defines early stopper\n",
    "        early_stopper = tf.keras.callbacks.EarlyStopping(\n",
    "            monitor='val_loss', mode='auto', patience=2, # only 1 !\n",
    "            verbose=1, restore_best_weights=True\n",
    "        )        \n",
    "\n",
    "        # Train model on data subset\n",
    "        self.model.fit(\n",
    "            X, y,\n",
    "            validation_data=self.validation_data,\n",
    "            epochs=self.max_epoches, \n",
    "            batch_size=self.batch_size,\n",
    "            callbacks=[early_stopper], \n",
    "            verbose=1\n",
    "        )        \n",
    "        return self\n",
    "    \n",
    "    def predict(self, X):        \n",
    "        scores = self.model.predict(X)\n",
    "        y_pred = np.argmax(scores, axis=1)\n",
    "        return y_pred"
   ]
  },
  {
   "cell_type": "code",
   "execution_count": 12,
   "metadata": {},
   "outputs": [],
   "source": [
    "from sklearn import metrics \n",
    "\n",
    "def accuracy_vs_training_data(camembert_model, initial_weights, \n",
    "                              preprocessor, sizes,\n",
    "                              train_reviews, train_labels,\n",
    "                              val_reviews, val_labels,\n",
    "                              test_reviews, test_labels):\n",
    "    test_accuracies = []\n",
    "    for size in sizes:        \n",
    "        # Preprocess data\n",
    "        X_train, y_train = preprocessor.fit_transform(\n",
    "            train_reviews[:size], train_labels[:size]\n",
    "        )\n",
    "        X_val, y_val = preprocessor.transform(val_reviews, val_labels)\n",
    "        X_test, y_test = preprocessor.transform(test_reviews, test_labels)\n",
    "        \n",
    "        # Reset weights to initial value\n",
    "        camembert_model.set_weights(initial_weights)\n",
    "        best_model = EarlyStoppingModel(\n",
    "            camembert_model, max_epoches=20, batch_size=4,\n",
    "            validation_data=(X_val, y_val)\n",
    "        )\n",
    "        \n",
    "        # Train model\n",
    "        best_model.fit(X_train, y_train)\n",
    "        \n",
    "        # Evaluate on test set\n",
    "        y_pred = best_model.predict(X_test)\n",
    "        test_acc = metrics.accuracy_score(y_test, y_pred)\n",
    "        test_accuracies.append(test_acc)\n",
    "        print(\"Test acc: \" + str(test_acc))\n",
    "        \n",
    "    return test_accuracies    "
   ]
  },
  {
   "cell_type": "code",
   "execution_count": 15,
   "metadata": {},
   "outputs": [
    {
     "name": "stdout",
     "output_type": "stream",
     "text": [
      "Train on 499 samples, validate on 20000 samples\n",
      "Epoch 1/20\n",
      "WARNING:tensorflow:Gradients do not exist for variables ['tf_camembert_for_sequence_classification/roberta/pooler/dense/kernel:0', 'tf_camembert_for_sequence_classification/roberta/pooler/dense/bias:0'] when minimizing the loss.\n",
      "WARNING:tensorflow:Gradients do not exist for variables ['tf_camembert_for_sequence_classification/roberta/pooler/dense/kernel:0', 'tf_camembert_for_sequence_classification/roberta/pooler/dense/bias:0'] when minimizing the loss.\n",
      "499/499 [==============================] - 607s 1s/sample - loss: 0.6845 - accuracy: 0.5591 - val_loss: 0.6643 - val_accuracy: 0.5401\n",
      "Epoch 2/20\n",
      "499/499 [==============================] - 599s 1s/sample - loss: 0.5258 - accuracy: 0.8196 - val_loss: 0.3421 - val_accuracy: 0.9240\n",
      "Epoch 3/20\n",
      "499/499 [==============================] - 606s 1s/sample - loss: 0.2650 - accuracy: 0.9479 - val_loss: 0.2355 - val_accuracy: 0.9349\n",
      "Epoch 4/20\n",
      "499/499 [==============================] - 604s 1s/sample - loss: 0.1490 - accuracy: 0.9760 - val_loss: 0.1947 - val_accuracy: 0.9420\n",
      "Epoch 5/20\n",
      "499/499 [==============================] - 599s 1s/sample - loss: 0.1000 - accuracy: 0.9880 - val_loss: 0.1957 - val_accuracy: 0.9396\n",
      "Epoch 6/20\n",
      "499/499 [==============================] - 599s 1s/sample - loss: 0.0620 - accuracy: 0.9960 - val_loss: 0.1940 - val_accuracy: 0.9427\n",
      "Epoch 7/20\n",
      "499/499 [==============================] - 599s 1s/sample - loss: 0.0636 - accuracy: 0.9840 - val_loss: 0.1893 - val_accuracy: 0.9445\n",
      "Epoch 8/20\n",
      "499/499 [==============================] - 599s 1s/sample - loss: 0.0351 - accuracy: 0.9980 - val_loss: 0.1991 - val_accuracy: 0.9449\n",
      "Epoch 9/20\n",
      "496/499 [============================>.] - ETA: 0s - loss: 0.0276 - accuracy: 0.9980Restoring model weights from the end of the best epoch.\n",
      "499/499 [==============================] - 603s 1s/sample - loss: 0.0275 - accuracy: 0.9980 - val_loss: 0.2093 - val_accuracy: 0.9445\n",
      "Epoch 00009: early stopping\n",
      "Test acc: 0.94735\n",
      "Train on 2114 samples, validate on 20000 samples\n",
      "Epoch 1/20\n",
      "2114/2114 [==============================] - 804s 380ms/sample - loss: 0.5636 - accuracy: 0.7427 - val_loss: 0.2415 - val_accuracy: 0.9294\n",
      "Epoch 2/20\n",
      "2114/2114 [==============================] - 798s 378ms/sample - loss: 0.1910 - accuracy: 0.9366 - val_loss: 0.1412 - val_accuracy: 0.9549\n",
      "Epoch 3/20\n",
      "2114/2114 [==============================] - 798s 377ms/sample - loss: 0.1012 - accuracy: 0.9702 - val_loss: 0.1335 - val_accuracy: 0.9561\n",
      "Epoch 4/20\n",
      "2114/2114 [==============================] - 793s 375ms/sample - loss: 0.0530 - accuracy: 0.9901 - val_loss: 0.2223 - val_accuracy: 0.9363\n",
      "Epoch 5/20\n",
      "2112/2114 [============================>.] - ETA: 0s - loss: 0.0387 - accuracy: 0.9905Restoring model weights from the end of the best epoch.\n",
      "2114/2114 [==============================] - 789s 373ms/sample - loss: 0.0387 - accuracy: 0.9905 - val_loss: 0.1674 - val_accuracy: 0.9551\n",
      "Epoch 00005: early stopping\n",
      "Test acc: 0.95945\n",
      "Train on 8944 samples, validate on 20000 samples\n",
      "Epoch 1/20\n",
      "WARNING:tensorflow:Gradients do not exist for variables ['tf_camembert_for_sequence_classification/roberta/pooler/dense/kernel:0', 'tf_camembert_for_sequence_classification/roberta/pooler/dense/bias:0'] when minimizing the loss.\n",
      "8944/8944 [==============================] - 1419s 159ms/sample - loss: 0.3197 - accuracy: 0.8648 - val_loss: 0.1353 - val_accuracy: 0.9521\n",
      "Epoch 2/20\n",
      "8944/8944 [==============================] - 1449s 162ms/sample - loss: 0.1095 - accuracy: 0.9653 - val_loss: 0.1357 - val_accuracy: 0.9579\n",
      "Epoch 3/20\n",
      "8944/8944 [==============================] - 1452s 162ms/sample - loss: 0.0702 - accuracy: 0.9791 - val_loss: 0.1233 - val_accuracy: 0.9625\n",
      "Epoch 4/20\n",
      "8944/8944 [==============================] - 1455s 163ms/sample - loss: 0.0427 - accuracy: 0.9897 - val_loss: 0.1242 - val_accuracy: 0.9629\n",
      "Epoch 5/20\n",
      "8940/8944 [============================>.] - ETA: 0s - loss: 0.0307 - accuracy: 0.9924Restoring model weights from the end of the best epoch.\n",
      "8944/8944 [==============================] - 1451s 162ms/sample - loss: 0.0307 - accuracy: 0.9924 - val_loss: 0.1561 - val_accuracy: 0.9591\n",
      "Epoch 00005: early stopping\n",
      "Test acc: 0.96335\n",
      "Train on 37829 samples, validate on 20000 samples\n",
      "Epoch 1/20\n",
      "37829/37829 [==============================] - 4205s 111ms/sample - loss: 0.1632 - accuracy: 0.9366 - val_loss: 0.1089 - val_accuracy: 0.9625\n",
      "Epoch 2/20\n",
      "37829/37829 [==============================] - 4202s 111ms/sample - loss: 0.0797 - accuracy: 0.9730 - val_loss: 0.1119 - val_accuracy: 0.9625\n",
      "Epoch 3/20\n",
      "37828/37829 [============================>.] - ETA: 0s - loss: 0.0505 - accuracy: 0.9838Restoring model weights from the end of the best epoch.\n",
      "37829/37829 [==============================] - 4202s 111ms/sample - loss: 0.0505 - accuracy: 0.9838 - val_loss: 0.1204 - val_accuracy: 0.9614\n",
      "Epoch 00003: early stopping\n",
      "Test acc: 0.96525\n",
      "Train on 160000 samples, validate on 20000 samples\n",
      "Epoch 1/20\n",
      "160000/160000 [==============================] - 15729s 98ms/sample - loss: 0.1130 - accuracy: 0.9579 - val_loss: 0.0755 - val_accuracy: 0.9740\n",
      "Epoch 2/20\n",
      "160000/160000 [==============================] - 15674s 98ms/sample - loss: 0.0650 - accuracy: 0.9775 - val_loss: 0.0826 - val_accuracy: 0.9720\n",
      "Epoch 3/20\n",
      "159996/160000 [============================>.] - ETA: 0s - loss: 0.0431 - accuracy: 0.9857Restoring model weights from the end of the best epoch.\n",
      "160000/160000 [==============================] - 15677s 98ms/sample - loss: 0.0431 - accuracy: 0.9857 - val_loss: 0.0906 - val_accuracy: 0.9726\n",
      "Epoch 00003: early stopping\n",
      "Test acc: 0.97435\n"
     ]
    }
   ],
   "source": [
    "sizes = [int(p) for p in np.geomspace(500, 160000, 5)]\n",
    "preprocessor = CamembertPreprocessor(tokenizer, MAX_SEQ_LEN)\n",
    "\n",
    "test_accuracies = accuracy_vs_training_data(\n",
    "    model, initial_weights, \n",
    "    preprocessor, sizes,\n",
    "    train_reviews, train_labels,\n",
    "    val_reviews, val_labels,\n",
    "    test_reviews, test_labels\n",
    ")"
   ]
  },
  {
   "cell_type": "code",
   "execution_count": null,
   "metadata": {},
   "outputs": [],
   "source": [
    "# Saving last model (full dataset)\n",
    "model.save_weights('data/bert/camembert_weights.hdf5')"
   ]
  },
  {
   "cell_type": "code",
   "execution_count": 18,
   "metadata": {},
   "outputs": [],
   "source": [
    "import pickle\n",
    "\n",
    "OUTPUT_PATH = 'data/bert/camembert_accuracies.pickle'\n",
    "\n",
    "output_dict = {\n",
    "    \"sizes\": sizes,\n",
    "    \"test_accuracies\": test_accuracies\n",
    "}\n",
    "\n",
    "with open(OUTPUT_PATH, 'wb') as writer:\n",
    "    pickle.dump(output_dict, writer)"
   ]
  },
  {
   "cell_type": "markdown",
   "metadata": {},
   "source": [
    "# Error Analysis"
   ]
  },
  {
   "cell_type": "code",
   "execution_count": 47,
   "metadata": {},
   "outputs": [
    {
     "name": "stdout",
     "output_type": "stream",
     "text": [
      "Val Accuracy: 97.39\n",
      "Val F1-Score: 97.36\n"
     ]
    }
   ],
   "source": [
    "from sklearn import metrics\n",
    "\n",
    "model.load_weights('data/camembert_weights.hdf5')\n",
    "scores = model.predict(encoded_valid)\n",
    "y_pred = np.argmax(scores, axis=1)\n",
    "    \n",
    "print(\"Val Accuracy: {:.2f}\".format(100 * metrics.accuracy_score(y_val, y_pred)))\n",
    "print(\"Val F1-Score: {:.2f}\".format(100 * metrics.f1_score(y_val, y_pred)))"
   ]
  },
  {
   "cell_type": "markdown",
   "metadata": {},
   "source": [
    "## Confusion Matrix"
   ]
  },
  {
   "cell_type": "code",
   "execution_count": 50,
   "metadata": {},
   "outputs": [
    {
     "data": {
      "image/png": "[encoded data removed]",
      "text/plain": [
       "<Figure size 504x360 with 2 Axes>"
      ]
     },
     "metadata": {},
     "output_type": "display_data"
    }
   ],
   "source": [
    "from utils import print_confusion_matrix\n",
    "from sklearn.metrics import confusion_matrix\n",
    "\n",
    "conf_mx = confusion_matrix(y_val, y_pred)\n",
    "\n",
    "fig = print_confusion_matrix(\n",
    "    conf_mx, \n",
    "    class_names.values(), \n",
    "    figsize=(7,5)\n",
    ")\n",
    "\n",
    "# Finalize the plot\n",
    "sns.despine(bottom=True)\n",
    "plt.tight_layout(h_pad=2)\n",
    "\n",
    "# Saving plot\n",
    "fig.savefig('img/bert/val_confusion_mx.png', dpi=200)"
   ]
  },
  {
   "cell_type": "code",
   "execution_count": null,
   "metadata": {},
   "outputs": [],
   "source": [
    "## False positive / negative"
   ]
  },
  {
   "cell_type": "code",
   "execution_count": 51,
   "metadata": {},
   "outputs": [],
   "source": [
    "false_pos = val_reviews[(y_val == 0) & (y_pred == 1)]\n",
    "false_neg = val_reviews[(y_val == 1) & (y_pred == 0)]"
   ]
  },
  {
   "cell_type": "code",
   "execution_count": 56,
   "metadata": {},
   "outputs": [
    {
     "data": {
      "text/html": [
       "<div>\n",
       "<style scoped>\n",
       "    .dataframe tbody tr th:only-of-type {\n",
       "        vertical-align: middle;\n",
       "    }\n",
       "\n",
       "    .dataframe tbody tr th {\n",
       "        vertical-align: top;\n",
       "    }\n",
       "\n",
       "    .dataframe thead th {\n",
       "        text-align: right;\n",
       "    }\n",
       "</style>\n",
       "<table border=\"1\" class=\"dataframe\">\n",
       "  <thead>\n",
       "    <tr style=\"text-align: right;\">\n",
       "      <th></th>\n",
       "      <th>0</th>\n",
       "    </tr>\n",
       "  </thead>\n",
       "  <tbody>\n",
       "    <tr>\n",
       "      <th>0</th>\n",
       "      <td>Ce film est tout ce qu'il y a de plus sympa. Même si l'ensemble n'est pas dépourvu de clichés, il serait hypocrite de dire que ce film est ennuyeux à regarder, bien au contraire. Il est très plaisant à regarder et même si l'ensemble est asse convenue, la mise en scène de Peter Chelsom est légère et ce film est une sorte de bouffée d'air frais. Tout à fait estimable.</td>\n",
       "    </tr>\n",
       "    <tr>\n",
       "      <th>1</th>\n",
       "      <td>Si les institutions morales disent que les films d'horreur, d'action et de SF sont dangereux pour les gosses, elles feraient mieux de se pencher sur ces oeuvres (!?!) pour gosses plus dangereuses que n'importe quel film qu'ils regarderaient en cachette par sa glorification de la bêtise la plus crasse, l'humour le plus débile, la production design la plus laide, et les idéaux développés tout simplement dangereux. Quete de célbrité, vengeance... Laisser les mater les Myasaki, et les pixar ça ce sont des films utiles à un bon développement et à mater en famille</td>\n",
       "    </tr>\n",
       "    <tr>\n",
       "      <th>2</th>\n",
       "      <td>Une bonne comédie qui ne dépasse guère le stade du catalogue de parodies et de l’humour burlesque. Pour peu que l’on adhère à ce type d’humour et que l’on en comprenne les références, on rigole franchement ; c’est hélas à peu près tout ce qu’apporte le film : une grosse déconne.</td>\n",
       "    </tr>\n",
       "    <tr>\n",
       "      <th>3</th>\n",
       "      <td>Un film qui fait sourire, c'est en effet plus une comédie qu'un film d'action, le scénario est cohérent et original. Les acteurs ne sont pas mauvais avec un bravo à Jason Statham pour un rôle certes petit mais pas simple à jouer. Ce n'est pas un grand film mais on ne regrette pas de l'avoir vu.</td>\n",
       "    </tr>\n",
       "    <tr>\n",
       "      <th>4</th>\n",
       "      <td>Intéressant et bien filmé, un docu qui a de l'impact!</td>\n",
       "    </tr>\n",
       "  </tbody>\n",
       "</table>\n",
       "</div>"
      ],
      "text/plain": [
       "                                                                                                                                                                                                                                                                                                                                                                                                                                                                                                                                                                                      0\n",
       "0                                                                                                                                                                                                      Ce film est tout ce qu'il y a de plus sympa. Même si l'ensemble n'est pas dépourvu de clichés, il serait hypocrite de dire que ce film est ennuyeux à regarder, bien au contraire. Il est très plaisant à regarder et même si l'ensemble est asse convenue, la mise en scène de Peter Chelsom est légère et ce film est une sorte de bouffée d'air frais. Tout à fait estimable.\n",
       "1  Si les institutions morales disent que les films d'horreur, d'action et de SF sont dangereux pour les gosses, elles feraient mieux de se pencher sur ces oeuvres (!?!) pour gosses plus dangereuses que n'importe quel film qu'ils regarderaient en cachette par sa glorification de la bêtise la plus crasse, l'humour le plus débile, la production design la plus laide, et les idéaux développés tout simplement dangereux. Quete de célbrité, vengeance... Laisser les mater les Myasaki, et les pixar ça ce sont des films utiles à un bon développement et à mater en famille\n",
       "2                                                                                                                                                                                                                                                                                               Une bonne comédie qui ne dépasse guère le stade du catalogue de parodies et de l’humour burlesque. Pour peu que l’on adhère à ce type d’humour et que l’on en comprenne les références, on rigole franchement ; c’est hélas à peu près tout ce qu’apporte le film : une grosse déconne.\n",
       "3                                                                                                                                                                                                                                                                               Un film qui fait sourire, c'est en effet plus une comédie qu'un film d'action, le scénario est cohérent et original. Les acteurs ne sont pas mauvais avec un bravo à Jason Statham pour un rôle certes petit mais pas simple à jouer. Ce n'est pas un grand film mais on ne regrette pas de l'avoir vu.\n",
       "4                                                                                                                                                                                                                                                                                                                                                                                                                                                                                                                                 Intéressant et bien filmé, un docu qui a de l'impact!"
      ]
     },
     "execution_count": 56,
     "metadata": {},
     "output_type": "execute_result"
    }
   ],
   "source": [
    "pd.DataFrame(false_pos[:5])"
   ]
  },
  {
   "cell_type": "code",
   "execution_count": 57,
   "metadata": {},
   "outputs": [
    {
     "data": {
      "text/html": [
       "<div>\n",
       "<style scoped>\n",
       "    .dataframe tbody tr th:only-of-type {\n",
       "        vertical-align: middle;\n",
       "    }\n",
       "\n",
       "    .dataframe tbody tr th {\n",
       "        vertical-align: top;\n",
       "    }\n",
       "\n",
       "    .dataframe thead th {\n",
       "        text-align: right;\n",
       "    }\n",
       "</style>\n",
       "<table border=\"1\" class=\"dataframe\">\n",
       "  <thead>\n",
       "    <tr style=\"text-align: right;\">\n",
       "      <th></th>\n",
       "      <th>0</th>\n",
       "    </tr>\n",
       "  </thead>\n",
       "  <tbody>\n",
       "    <tr>\n",
       "      <th>0</th>\n",
       "      <td>si lune de miel en enfer(alias devil's pond) se regarde agréablement sans être originale pour antan, c'est surement grâce à l'équipe de ce petit budget(5 000 000m$), et à ses acteurs dont tara reid(american pie) et kip pardue(thirteen)qui nous donnent vraiment l'impression d'être un vrais couple. certes ce n'est pas le film du siècle mais cela se regarde sans aucuns problème. l'histoire est revue et revue, mais on se surprend encore malgré tout à visionné pour la centième fois une copie de mes nuits avec mon ennemies. film trouvé dans un vidéo futur entre parenthèse et peu connus du grand public. à faire connaitre de toute urgence alors quoi.</td>\n",
       "    </tr>\n",
       "    <tr>\n",
       "      <th>1</th>\n",
       "      <td>Intouchables n'est ni plus ni moins qu'une comédie basé sur des faits réels, le film ne mérite absolument pas son succès et Omar mérite absolument pas son césar car appart rire comme un con il ne sait pas jouer (attention je l'adore mais je sais reconnaître un mec talentueux) Cluzet lui est très talentueux et aurait mérité 100 fois le césar, sinon une sympathique comédie qui ne casse pas des briques, on s'amuse bien devant ce film.</td>\n",
       "    </tr>\n",
       "    <tr>\n",
       "      <th>2</th>\n",
       "      <td>UN film muet réputé comme grandiose qui nem'a pas totalement convaincu, excepté la fin, assez magistrale. Ceci dit, on reconnait tout de même devant et derrière la caméra un homme assez magistral : Erich Von Stroheim. De son génie ressort une oeuvre particulièrement personnelle et tout de même très intéressante, notamment au niveau de la lumière. A vous de voir.</td>\n",
       "    </tr>\n",
       "    <tr>\n",
       "      <th>3</th>\n",
       "      <td>« La fin des paysans », le thème devient un genre en soi, et bien que connaissant le milieu, après ce retour dans la boue des hivers, j’en ai eu la chique coupée. Le réalisateur, né dans le Forez, y est revenu depuis New York où il a réussi comme photographe jusqu’à en mourir, étouffé par la poussière des tours écroulées du 11 septembre. Les personnages qu’il nous montre, incrustés dans leurs capharnaüms glacés, parmi leurs animaux bruyants et brutalisés, ont des allures moyenâgeuses. La vieillesse, la maladie, la folie aggravent des conditions de vie indignes. Le langage de l’administration est une offense, les notions de valeur d’un autre âge. Les Francs sont évoqués mais ne disent même plus rien. Les images de brumes peuvent paraître belles, nous les savons mordantes. La misère, la solitude, la fatigue, la mort ; ce film est comme le papier collé à la porte d’une étable par un pauvre scotch protestant en vain contre la décision d’abattre le troupeau atteint de la maladie de la vache folle. Nous sommes loin de romantiques herbes folles, nos repères sont devenus flous, nos pères devenus fous. Il fallait un regard en empathie totale pour filmer de si près la déchéance de nos semblables ignorés derrière les collines prochaines, oubliées de ce siècle.</td>\n",
       "    </tr>\n",
       "    <tr>\n",
       "      <th>4</th>\n",
       "      <td>Incroyable de voir que la presse ne donne qu'une minable étoile à un film dont la bande son est exceptionnelle et dont les images sont très soignées.</td>\n",
       "    </tr>\n",
       "  </tbody>\n",
       "</table>\n",
       "</div>"
      ],
      "text/plain": [
       "                                                                                                                                                                                                                                                                                                                                                                                                                                                                                                                                                                                                                                                                                                                                                                                                                                                                                                                                                                                                                                                                                                                                                                                                                                                                                                                       0\n",
       "0                                                                                                                                                                                                                                                                                                                                                                                                                                                                                                                                                                                                                                             si lune de miel en enfer(alias devil's pond) se regarde agréablement sans être originale pour antan, c'est surement grâce à l'équipe de ce petit budget(5 000 000m$), et à ses acteurs dont tara reid(american pie) et kip pardue(thirteen)qui nous donnent vraiment l'impression d'être un vrais couple. certes ce n'est pas le film du siècle mais cela se regarde sans aucuns problème. l'histoire est revue et revue, mais on se surprend encore malgré tout à visionné pour la centième fois une copie de mes nuits avec mon ennemies. film trouvé dans un vidéo futur entre parenthèse et peu connus du grand public. à faire connaitre de toute urgence alors quoi.\n",
       "1                                                                                                                                                                                                                                                                                                                                                                                                                                                                                                                                                                                                                                                                                                                                                                                                                                                                    Intouchables n'est ni plus ni moins qu'une comédie basé sur des faits réels, le film ne mérite absolument pas son succès et Omar mérite absolument pas son césar car appart rire comme un con il ne sait pas jouer (attention je l'adore mais je sais reconnaître un mec talentueux) Cluzet lui est très talentueux et aurait mérité 100 fois le césar, sinon une sympathique comédie qui ne casse pas des briques, on s'amuse bien devant ce film.\n",
       "2                                                                                                                                                                                                                                                                                                                                                                                                                                                                                                                                                                                                                                                                                                                                                                                                                                                                                                                                           UN film muet réputé comme grandiose qui nem'a pas totalement convaincu, excepté la fin, assez magistrale. Ceci dit, on reconnait tout de même devant et derrière la caméra un homme assez magistral : Erich Von Stroheim. De son génie ressort une oeuvre particulièrement personnelle et tout de même très intéressante, notamment au niveau de la lumière. A vous de voir.\n",
       "3  « La fin des paysans », le thème devient un genre en soi, et bien que connaissant le milieu, après ce retour dans la boue des hivers, j’en ai eu la chique coupée. Le réalisateur, né dans le Forez, y est revenu depuis New York où il a réussi comme photographe jusqu’à en mourir, étouffé par la poussière des tours écroulées du 11 septembre. Les personnages qu’il nous montre, incrustés dans leurs capharnaüms glacés, parmi leurs animaux bruyants et brutalisés, ont des allures moyenâgeuses. La vieillesse, la maladie, la folie aggravent des conditions de vie indignes. Le langage de l’administration est une offense, les notions de valeur d’un autre âge. Les Francs sont évoqués mais ne disent même plus rien. Les images de brumes peuvent paraître belles, nous les savons mordantes. La misère, la solitude, la fatigue, la mort ; ce film est comme le papier collé à la porte d’une étable par un pauvre scotch protestant en vain contre la décision d’abattre le troupeau atteint de la maladie de la vache folle. Nous sommes loin de romantiques herbes folles, nos repères sont devenus flous, nos pères devenus fous. Il fallait un regard en empathie totale pour filmer de si près la déchéance de nos semblables ignorés derrière les collines prochaines, oubliées de ce siècle.\n",
       "4                                                                                                                                                                                                                                                                                                                                                                                                                                                                                                                                                                                                                                                                                                                                                                                                                                                                                                                                                                                                                                                                                                                                                                  Incroyable de voir que la presse ne donne qu'une minable étoile à un film dont la bande son est exceptionnelle et dont les images sont très soignées."
      ]
     },
     "execution_count": 57,
     "metadata": {},
     "output_type": "execute_result"
    }
   ],
   "source": [
    "pd.DataFrame(false_neg[:5])"
   ]
  },
  {
   "cell_type": "markdown",
   "metadata": {},
   "source": [
    "# Testing best model"
   ]
  },
  {
   "cell_type": "code",
   "execution_count": null,
   "metadata": {},
   "outputs": [],
   "source": [
    "model.load_weights('data/bert/camembert_weights.hdf5')\n",
    "\n",
    "scores = model.predict(encoded_test)\n",
    "y_pred = np.argmax(scores, axis=1)"
   ]
  },
  {
   "cell_type": "code",
   "execution_count": 60,
   "metadata": {},
   "outputs": [
    {
     "name": "stdout",
     "output_type": "stream",
     "text": [
      "Test Accuracy: 97.44\n",
      "Test F1-Score: 97.34\n",
      "\n",
      "              precision    recall  f1-score   support\n",
      "\n",
      "    Negative       0.98      0.97      0.98     10408\n",
      "    Positive       0.97      0.98      0.97      9592\n",
      "\n",
      "    accuracy                           0.97     20000\n",
      "   macro avg       0.97      0.97      0.97     20000\n",
      "weighted avg       0.97      0.97      0.97     20000\n",
      "\n"
     ]
    }
   ],
   "source": [
    "from sklearn import metrics\n",
    "    \n",
    "print(\"Test Accuracy: {:.2f}\".format(100 * metrics.accuracy_score(y_test, y_pred)))\n",
    "print(\"Test F1-Score: {:.2f}\".format(100 * metrics.f1_score(y_test, y_pred)))\n",
    "print()\n",
    "\n",
    "report = metrics.classification_report(\n",
    "    y_test, y_pred, \n",
    "    target_names=class_names.values()\n",
    ")\n",
    "print(report)"
   ]
  },
  {
   "cell_type": "code",
   "execution_count": 59,
   "metadata": {},
   "outputs": [
    {
     "data": {
      "image/png": "[encoded data removed]",
      "text/plain": [
       "<Figure size 504x360 with 2 Axes>"
      ]
     },
     "metadata": {},
     "output_type": "display_data"
    }
   ],
   "source": [
    "from sklearn.metrics import confusion_matrix\n",
    "conf_mx = confusion_matrix(y_test, y_pred)\n",
    "\n",
    "fig = print_confusion_matrix(\n",
    "    conf_mx, \n",
    "    class_names.values(), \n",
    "    figsize=(7,5)\n",
    ")\n",
    "\n",
    "# Finalize the plot\n",
    "sns.despine(bottom=True)\n",
    "plt.tight_layout(h_pad=2)\n",
    "\n",
    "# Saving plot\n",
    "fig.savefig('img/bert/test_confusion_mx.png', dpi=200)"
   ]
  },
  {
   "cell_type": "markdown",
   "metadata": {},
   "source": [
    "# Inference time"
   ]
  },
  {
   "cell_type": "code",
   "execution_count": 12,
   "metadata": {},
   "outputs": [],
   "source": [
    "model.load_weights('data/bert/camembert_weights.hdf5')"
   ]
  },
  {
   "cell_type": "code",
   "execution_count": 20,
   "metadata": {},
   "outputs": [],
   "source": [
    "import time\n",
    "\n",
    "inference_times = []\n",
    "\n",
    "for i in range(1000):\n",
    "    x = {\n",
    "    'input_ids': np.array([encoded_test['input_ids'][i], ]),\n",
    "    'attention_mask':  np.array([encoded_test['attention_mask'][i], ]),\n",
    "    }\n",
    "    start_time = time.time()\n",
    "    y_pred = model.predict(x)\n",
    "    stop_time = time.time()\n",
    "    \n",
    "    inference_times.append(stop_time - start_time)    "
   ]
  },
  {
   "cell_type": "code",
   "execution_count": 21,
   "metadata": {},
   "outputs": [],
   "source": [
    "OUTPUT_PATH = 'data/bert/camembert_times.pickle'\n",
    "\n",
    "with open(OUTPUT_PATH, 'wb') as writer:\n",
    "    pickle.dump(inference_times, writer)"
   ]
  },
  {
   "cell_type": "markdown",
   "metadata": {},
   "source": [
    "# Generalizability"
   ]
  },
  {
   "cell_type": "code",
   "execution_count": 29,
   "metadata": {},
   "outputs": [
    {
     "name": "stdout",
     "output_type": "stream",
     "text": [
      "> Folder: data/cls-acl10-unprocessed/fr/books\n",
      "  Len Train: 2000. Len Test: 2000.\n",
      "> Folder: data/cls-acl10-unprocessed/fr/dvd\n",
      "  Len Train: 2000. Len Test: 2000.\n",
      "> Folder: data/cls-acl10-unprocessed/fr/music\n",
      "  Len Train: 2000. Len Test: 2000.\n"
     ]
    }
   ],
   "source": [
    "import os\n",
    "from utils_acl import get_data\n",
    "\n",
    "ACL_FOLDER = 'data/cls-acl10-unprocessed/fr'\n",
    "BOOKS_FOLDER = os.path.join(ACL_FOLDER, 'books')\n",
    "DVD_FOLDER = os.path.join(ACL_FOLDER, 'dvd')\n",
    "MUSIC_FOLDER = os.path.join(ACL_FOLDER, 'music')\n",
    "\n",
    "_, _, test_reviews_b, test_labels_b = get_data(BOOKS_FOLDER)\n",
    "_, _, test_reviews_d, test_labels_d  = get_data(DVD_FOLDER)\n",
    "_, _, test_reviews_m, test_labels_m  = get_data(MUSIC_FOLDER)"
   ]
  },
  {
   "cell_type": "code",
   "execution_count": 30,
   "metadata": {},
   "outputs": [],
   "source": [
    "from sklearn import metrics \n",
    "\n",
    "def evaluate(model, X, y):\n",
    "    scores = model.predict(X)\n",
    "    y_pred = np.argmax(scores, axis=1)\n",
    "    print(\"Accuracy: {:.2f}\".format(100 * metrics.accuracy_score(y, y_pred)))\n",
    "    print(\"F1-Score: {:.2f}\".format(100 * metrics.f1_score(y, y_pred)))"
   ]
  },
  {
   "cell_type": "code",
   "execution_count": 20,
   "metadata": {},
   "outputs": [],
   "source": [
    "preprocessor = CamembertPreprocessor(tokenizer, MAX_SEQ_LEN)"
   ]
  },
  {
   "cell_type": "code",
   "execution_count": 21,
   "metadata": {},
   "outputs": [],
   "source": [
    "model.load_weights('data/bert/camembert_weights.hdf5')"
   ]
  },
  {
   "cell_type": "markdown",
   "metadata": {},
   "source": [
    "## Books"
   ]
  },
  {
   "cell_type": "code",
   "execution_count": 26,
   "metadata": {},
   "outputs": [
    {
     "name": "stdout",
     "output_type": "stream",
     "text": [
      "Accuracy: 94.10\n",
      "F1-Score: 94.33\n"
     ]
    }
   ],
   "source": [
    "X_books, y_books = preprocessor.transform(test_reviews_b, test_labels_b)\n",
    "evaluate(model, X_books, y_books)"
   ]
  },
  {
   "cell_type": "markdown",
   "metadata": {},
   "source": [
    "## DVD"
   ]
  },
  {
   "cell_type": "code",
   "execution_count": 27,
   "metadata": {},
   "outputs": [
    {
     "name": "stdout",
     "output_type": "stream",
     "text": [
      "Accuracy: 93.25\n",
      "F1-Score: 93.48\n"
     ]
    }
   ],
   "source": [
    "X_dvd, y_dvd = preprocessor.transform(test_reviews_d, test_labels_d)\n",
    "evaluate(model, X_dvd, y_dvd)"
   ]
  },
  {
   "cell_type": "markdown",
   "metadata": {},
   "source": [
    "## Music"
   ]
  },
  {
   "cell_type": "code",
   "execution_count": 28,
   "metadata": {},
   "outputs": [
    {
     "name": "stdout",
     "output_type": "stream",
     "text": [
      "Accuracy: 94.55\n",
      "F1-Score: 94.71\n"
     ]
    }
   ],
   "source": [
    "X_music, y_music = preprocessor.transform(test_reviews_m, test_labels_m)\n",
    "evaluate(model, X_music, y_music)"
   ]
  }
 ],
 "metadata": {
  "kernelspec": {
   "display_name": "Python 3",
   "language": "python",
   "name": "python3"
  },
  "language_info": {
   "codemirror_mode": {
    "name": "ipython",
    "version": 3
   },
   "file_extension": ".py",
   "mimetype": "text/x-python",
   "name": "python",
   "nbconvert_exporter": "python",
   "pygments_lexer": "ipython3",
   "version": "3.7.5"
  }
 },
 "nbformat": 4,
 "nbformat_minor": 4
}
